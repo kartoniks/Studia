{
  "nbformat": 4,
  "nbformat_minor": 0,
  "metadata": {
    "colab": {
      "name": "p0.ipynb",
      "provenance": [],
      "collapsed_sections": [],
      "machine_shape": "hm",
      "authorship_tag": "ABX9TyO8fNiWPTU1mjmVKrWa4WiQ",
      "include_colab_link": true
    },
    "kernelspec": {
      "name": "python3",
      "display_name": "Python 3"
    }
  },
  "cells": [
    {
      "cell_type": "markdown",
      "metadata": {
        "id": "view-in-github",
        "colab_type": "text"
      },
      "source": [
        "<a href=\"https://colab.research.google.com/github/kartoniks/Studia/blob/master/DeepLearning/L1/assignment1.ipynb\" target=\"_parent\"><img src=\"https://colab.research.google.com/assets/colab-badge.svg\" alt=\"Open In Colab\"/></a>"
      ]
    },
    {
      "cell_type": "code",
      "metadata": {
        "id": "wZmqvDB70fEQ",
        "colab_type": "code",
        "outputId": "e30aa208-4b4b-41fb-ab8a-33507c6d618d",
        "colab": {
          "resources": {
            "http://localhost:8080/nbextensions/google.colab/files.js": {
              "data": "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",
              "ok": true,
              "headers": [
                [
                  "content-type",
                  "application/javascript"
                ]
              ],
              "status": 200,
              "status_text": ""
            }
          },
          "base_uri": "https://localhost:8080/",
          "height": 74
        }
      },
      "source": [
        "from google.colab import files\n",
        "uploaded = files.upload()"
      ],
      "execution_count": 39,
      "outputs": [
        {
          "output_type": "display_data",
          "data": {
            "text/html": [
              "\n",
              "     <input type=\"file\" id=\"files-87357075-164e-4061-89e1-0a1e5e558988\" name=\"files[]\" multiple disabled />\n",
              "     <output id=\"result-87357075-164e-4061-89e1-0a1e5e558988\">\n",
              "      Upload widget is only available when the cell has been executed in the\n",
              "      current browser session. Please rerun this cell to enable.\n",
              "      </output>\n",
              "      <script src=\"/nbextensions/google.colab/files.js\"></script> "
            ],
            "text/plain": [
              "<IPython.core.display.HTML object>"
            ]
          },
          "metadata": {
            "tags": []
          }
        },
        {
          "output_type": "stream",
          "text": [
            "Saving train.tsv to train (1).tsv\n"
          ],
          "name": "stdout"
        }
      ]
    },
    {
      "cell_type": "code",
      "metadata": {
        "id": "RwJP3PuP3ZBn",
        "colab_type": "code",
        "outputId": "a9ee2c6b-eea1-439e-b224-dceb85a89ad0",
        "colab": {
          "base_uri": "https://localhost:8080/",
          "height": 195
        }
      },
      "source": [
        "import pandas as pd\n",
        "import numpy as np\n",
        "import scipy as sp\n",
        "data = pd.read_table(\"train.tsv\")\n",
        "data.drop_duplicates(\"SentenceId\", keep=\"first\", inplace=True)\n",
        "train_set = data[0:7000]\n",
        "test_set = data[7000:]\n",
        "data.head()"
      ],
      "execution_count": 55,
      "outputs": [
        {
          "output_type": "execute_result",
          "data": {
            "text/html": [
              "<div>\n",
              "<style scoped>\n",
              "    .dataframe tbody tr th:only-of-type {\n",
              "        vertical-align: middle;\n",
              "    }\n",
              "\n",
              "    .dataframe tbody tr th {\n",
              "        vertical-align: top;\n",
              "    }\n",
              "\n",
              "    .dataframe thead th {\n",
              "        text-align: right;\n",
              "    }\n",
              "</style>\n",
              "<table border=\"1\" class=\"dataframe\">\n",
              "  <thead>\n",
              "    <tr style=\"text-align: right;\">\n",
              "      <th></th>\n",
              "      <th>PhraseId</th>\n",
              "      <th>SentenceId</th>\n",
              "      <th>Phrase</th>\n",
              "      <th>Sentiment</th>\n",
              "    </tr>\n",
              "  </thead>\n",
              "  <tbody>\n",
              "    <tr>\n",
              "      <th>0</th>\n",
              "      <td>1</td>\n",
              "      <td>1</td>\n",
              "      <td>A series of escapades demonstrating the adage ...</td>\n",
              "      <td>1</td>\n",
              "    </tr>\n",
              "    <tr>\n",
              "      <th>63</th>\n",
              "      <td>64</td>\n",
              "      <td>2</td>\n",
              "      <td>This quiet , introspective and entertaining in...</td>\n",
              "      <td>4</td>\n",
              "    </tr>\n",
              "    <tr>\n",
              "      <th>81</th>\n",
              "      <td>82</td>\n",
              "      <td>3</td>\n",
              "      <td>Even fans of Ismail Merchant 's work , I suspe...</td>\n",
              "      <td>1</td>\n",
              "    </tr>\n",
              "    <tr>\n",
              "      <th>116</th>\n",
              "      <td>117</td>\n",
              "      <td>4</td>\n",
              "      <td>A positively thrilling combination of ethnogra...</td>\n",
              "      <td>3</td>\n",
              "    </tr>\n",
              "    <tr>\n",
              "      <th>156</th>\n",
              "      <td>157</td>\n",
              "      <td>5</td>\n",
              "      <td>Aggressive self-glorification and a manipulati...</td>\n",
              "      <td>1</td>\n",
              "    </tr>\n",
              "  </tbody>\n",
              "</table>\n",
              "</div>"
            ],
            "text/plain": [
              "     PhraseId  ...  Sentiment\n",
              "0           1  ...          1\n",
              "63         64  ...          4\n",
              "81         82  ...          1\n",
              "116       117  ...          3\n",
              "156       157  ...          1\n",
              "\n",
              "[5 rows x 4 columns]"
            ]
          },
          "metadata": {
            "tags": []
          },
          "execution_count": 55
        }
      ]
    },
    {
      "cell_type": "code",
      "metadata": {
        "id": "lNDhGH2PBSWE",
        "colab_type": "code",
        "colab": {}
      },
      "source": [
        "# unique_dict = {}\n",
        "\n",
        "# for index, row in data.iterrows():\n",
        "#   if row[\"SentenceId\"] in unique_dict.keys():\n",
        "#     if unique_dict[row[\"SentenceId\"]][\"PhraseId\"] > row[\"PhraseId\"]:  \n",
        "#       unique_dict[row[\"SentenceId\"]] = row\n",
        "#   else:\n",
        "#     unique_dict[row[\"SentenceId\"]] = row\n",
        "# unique_data = pd.DataFrame.from_dict(unique_dict, orient='index')\n",
        "# unique_data.head()\n",
        "\n",
        "# train_set = unique_data[0:7000]\n",
        "# test_set = unique_data[7000:8529]"
      ],
      "execution_count": 0,
      "outputs": []
    },
    {
      "cell_type": "code",
      "metadata": {
        "id": "mcz4uYNzQk7s",
        "colab_type": "code",
        "outputId": "280f7030-56ea-48c0-f1ba-53aa74c7634c",
        "colab": {
          "base_uri": "https://localhost:8080/",
          "height": 185
        }
      },
      "source": [
        "import collections as co\n",
        "words = co.defaultdict()\n",
        "\n",
        "sentence_dict = co.defaultdict()\n",
        "for index, row in data.iterrows():\n",
        "  sentence_dict[row[\"Phrase\"]] = row[\"Sentiment\"]\n",
        "\n",
        "for index, row in data.iterrows():\n",
        "  for word in row[\"Phrase\"].split(\" \"):\n",
        "    if not word.isalpha():\n",
        "      continue\n",
        "    word = word.lower()\n",
        "    if word not in words.keys():\n",
        "      words[word] = [1, row[\"Sentiment\"], word]     #first quantity, then sentiment\n",
        "    else:\n",
        "      words[word][0] += 1\n",
        "      words[word][1] += row[\"Sentiment\"]\n",
        "\n",
        "for value in words.values():\n",
        "  value[1] = value[1]/value[0]\n",
        "\n",
        "wordList = []\n",
        "for key, value in words.items():\n",
        "    wordList.append(value)\n",
        "\n",
        "wordList.sort(key = lambda x: -x[0])\n",
        "wordList = wordList[0:2000]\n",
        "wordList.sort(key = lambda x: -x[1])\n",
        "# [9, 3.7777777777777777, 'heartwarming'] example entry\n",
        "\n",
        "words = co.defaultdict()\n",
        "id = 0\n",
        "for entry in wordList:\n",
        "  words[entry[2]] = entry\n",
        "  words[entry[2]].append(id)\n",
        "  id += 1\n",
        "wordList[:10] #best words"
      ],
      "execution_count": 41,
      "outputs": [
        {
          "output_type": "execute_result",
          "data": {
            "text/plain": [
              "[[10, 3.7, 'heartwarming', 0],\n",
              " [10, 3.7, 'vibrant', 1],\n",
              " [9, 3.6666666666666665, 'intoxicating', 2],\n",
              " [9, 3.6666666666666665, 'joyous', 3],\n",
              " [9, 3.6666666666666665, 'captivating', 4],\n",
              " [11, 3.6363636363636362, 'dazzling', 5],\n",
              " [9, 3.5555555555555554, 'detailed', 6],\n",
              " [14, 3.5, 'refreshing', 7],\n",
              " [10, 3.5, 'mesmerizing', 8],\n",
              " [8, 3.5, 'masterful', 9]]"
            ]
          },
          "metadata": {
            "tags": []
          },
          "execution_count": 41
        }
      ]
    },
    {
      "cell_type": "code",
      "metadata": {
        "id": "lR55dGyFXt7p",
        "colab_type": "code",
        "outputId": "5eeb04e9-d729-46a3-dd32-8900c7c68b0d",
        "colab": {
          "base_uri": "https://localhost:8080/",
          "height": 84
        }
      },
      "source": [
        "X = [] #matrix of word counts for sentences\n",
        "X_test = [] \n",
        "y = [] #vector of scores\n",
        "w = len(words)\n",
        "for index, row in train_set.iterrows():\n",
        "  entry = np.zeros(w)\n",
        "  wds = row[\"Phrase\"].lower().split(\" \")\n",
        "  score = 0\n",
        "  wordcount = 0\n",
        "  for wd in wds:\n",
        "    if wd in words:\n",
        "      id = words[wd][3]\n",
        "      entry[id] += 1\n",
        "      score += words[wd][1] - 2\n",
        "      wordcount += 1\n",
        "  if wordcount != 0:\n",
        "    X.append(entry)\n",
        "    y.append(row[\"Sentiment\"]) #change to score to look at average word liking\n",
        "\n",
        "for index, row in test_set.iterrows():\n",
        "  entry = np.zeros(w)\n",
        "  wds = row[\"Phrase\"].lower().split(\" \")\n",
        "  for wd in wds:\n",
        "    if wd in words:\n",
        "      id = words[wd][3]\n",
        "      entry[id] += 1\n",
        "  X_test.append(entry)\n",
        "\n",
        "X = np.asarray(X)\n",
        "X_test = np.asarray(X_test)\n",
        "y = np.asarray(y)\n",
        "\n",
        "print(y[0:20])"
      ],
      "execution_count": 91,
      "outputs": [
        {
          "output_type": "stream",
          "text": [
            "[ 0.11574559  2.400303   -0.87483316  0.66590772 -0.5490727   0.9882401\n",
            " -2.06800104  0.10919108  0.23101599 -1.32002173 -2.56082155  0.26254311\n",
            "  1.73922044  4.44224143 -0.49461068  2.53813514  1.92419261  2.27162579\n",
            " -0.7222886  -0.41119261]\n"
          ],
          "name": "stdout"
        }
      ]
    },
    {
      "cell_type": "code",
      "metadata": {
        "id": "V3WF5PsuAnxq",
        "colab_type": "code",
        "colab": {}
      },
      "source": [
        "################################################### Negative encoding #######################################################\n",
        "X = [] #matrix of word counts for sentences\n",
        "X_test = [] \n",
        "y = [] #vector of scores\n",
        "\n",
        "w = len(words)\n",
        "for index, row in train_set.iterrows():\n",
        "  entry = np.zeros(w)\n",
        "  wds = row[\"Phrase\"].split(\" \")\n",
        "  score = 0\n",
        "  wordcount = 0\n",
        "  for i in range(len(wds)):\n",
        "    wd = wds[i]\n",
        "    if wd in words:\n",
        "      if wd in [\"not\", \"n't\"] and i < len(wds)-1:\n",
        "        next_wd = wds[i+1]\n",
        "        if next_wd in words:\n",
        "          id = words[next_wd][3]\n",
        "          entry[id] -= 2  #because next iteration will increase\n",
        "          score -= 2*words[next_wd][1]\n",
        "        else:\n",
        "          continue\n",
        "      else:\n",
        "        id = words[wd][3]\n",
        "        entry[id] += 1\n",
        "      score += words[wd][1]\n",
        "      wordcount += 1\n",
        "  if wordcount != 0:\n",
        "    X.append(entry)\n",
        "    y.append(row[\"Sentiment\"])\n",
        "\n",
        "for index, row in test_set.iterrows():\n",
        "  entry = np.zeros(w)\n",
        "  wds = row[\"Phrase\"].split(\" \")\n",
        "  wordcount = 0\n",
        "  for i in range(len(wds)):\n",
        "    wd = wds[i]\n",
        "    if wd in words:\n",
        "      if wd in [\"not\", \"n't\"] and i < len(wds)-1:\n",
        "        next_wd = wds[i+1]\n",
        "        if next_wd in words:\n",
        "          id = words[next_wd][3]\n",
        "          entry[id] -= 2  #because next iteration will increase\n",
        "        else:\n",
        "          continue\n",
        "      else:\n",
        "        id = words[wd][3]\n",
        "        entry[id] += 1\n",
        "      wordcount += 1\n",
        "  X_test.append(entry)\n",
        "\n",
        "X = np.asarray(X)\n",
        "X_test = np.asarray(X_test)\n",
        "y = np.asarray(y)"
      ],
      "execution_count": 0,
      "outputs": []
    },
    {
      "cell_type": "code",
      "metadata": {
        "id": "P9EEZzBI5xQP",
        "colab_type": "code",
        "colab": {}
      },
      "source": [
        "################################################### Negative and emphasis encoding #######################################################\n",
        "X = [] #matrix of word counts for sentences\n",
        "X_test = [] \n",
        "y = [] #vector of scores\n",
        "neg = -2\n",
        "emph= 2\n",
        "\n",
        "w = len(words)\n",
        "for index, row in train_set.iterrows():\n",
        "  entry = np.zeros(w)\n",
        "  wds = row[\"Phrase\"].split(\" \")\n",
        "  score = 0\n",
        "  wordcount = 0\n",
        "  for i in range(len(wds)):\n",
        "    wd = wds[i]\n",
        "    if wd in words:\n",
        "      if wd in [\"not\", \"n't\"] and i < len(wds)-1:\n",
        "        next_wd = wds[i+1]\n",
        "        if next_wd in [\"very\", \"really\"]:\n",
        "          next_wd = wds[i+2] # jump over very\n",
        "          if next_wd not in words:\n",
        "            continue\n",
        "          id = words[next_wd][3]\n",
        "          entry[id] += neg*emph\n",
        "          score -= 4*words[next_wd][1]\n",
        "        elif next_wd in words:\n",
        "          id = words[next_wd][3]\n",
        "          entry[id] += neg  #because next iteration will increase\n",
        "          score -= 2*words[next_wd][1]\n",
        "      elif wd in [\"very\", \"really\"]:\n",
        "        next_wd = wds[i+1]\n",
        "        if next_wd in words:\n",
        "          id = words[next_wd][3]\n",
        "          entry[id] += emph  #because next iteration will increase\n",
        "          score += 4*words[next_wd][1]\n",
        "      else:\n",
        "        id = words[wd][3]\n",
        "        entry[id] += 1\n",
        "      score += words[wd][1]\n",
        "      wordcount += 1\n",
        "  if wordcount != 0:\n",
        "    X.append(entry)\n",
        "    y.append(row[\"Sentiment\"])\n",
        "\n",
        "for index, row in test_set.iterrows():\n",
        "  entry = np.zeros(w)\n",
        "  wds = row[\"Phrase\"].split(\" \")\n",
        "  wordcount = 0\n",
        "  for i in range(len(wds)):\n",
        "    wd = wds[i]\n",
        "    if wd in words:\n",
        "      if wd in [\"not\", \"n't\"] and i < len(wds)-1:\n",
        "        next_wd = wds[i+1]\n",
        "        if next_wd in [\"very\", \"really\"]:\n",
        "          next_wd = wds[i+2] # jump over very\n",
        "          if next_wd not in words:\n",
        "            continue\n",
        "          id = words[next_wd][3]\n",
        "          entry[id] += neg*emph\n",
        "        elif next_wd in words:\n",
        "          id = words[next_wd][3]\n",
        "          entry[id] += neg\n",
        "      elif wd in [\"very\", \"really\"]:\n",
        "        next_wd = wds[i+1]\n",
        "        if next_wd in words:\n",
        "          id = words[next_wd][3]\n",
        "          entry[id] += emph \n",
        "      else:\n",
        "        id = words[wd][3]\n",
        "        entry[id] += 1\n",
        "      wordcount += 1\n",
        "  # if wordcount != 0:\n",
        "  X_test.append(entry)\n",
        "\n",
        "X = np.asarray(X)\n",
        "X_test = np.asarray(X_test)\n",
        "y = np.asarray(y)"
      ],
      "execution_count": 0,
      "outputs": []
    },
    {
      "cell_type": "code",
      "metadata": {
        "id": "GYB9GBHcKVc_",
        "colab_type": "code",
        "outputId": "04511d1c-ff14-4631-908f-f2076e0bc094",
        "colab": {
          "base_uri": "https://localhost:8080/",
          "height": 235
        }
      },
      "source": [
        "from sklearn.linear_model import LogisticRegression\n",
        "\n",
        "y_int = np.zeros(len(y))\n",
        "for i in range(len(y)):\n",
        "  y_int[i] = round(y[i])\n",
        "logisticRegr = LogisticRegression(random_state=0, max_iter=50)\n",
        "logisticRegr.fit(X, y_int)"
      ],
      "execution_count": 92,
      "outputs": [
        {
          "output_type": "stream",
          "text": [
            "/usr/local/lib/python3.6/dist-packages/sklearn/linear_model/_logistic.py:940: ConvergenceWarning: lbfgs failed to converge (status=1):\n",
            "STOP: TOTAL NO. of ITERATIONS REACHED LIMIT.\n",
            "\n",
            "Increase the number of iterations (max_iter) or scale the data as shown in:\n",
            "    https://scikit-learn.org/stable/modules/preprocessing.html\n",
            "Please also refer to the documentation for alternative solver options:\n",
            "    https://scikit-learn.org/stable/modules/linear_model.html#logistic-regression\n",
            "  extra_warning_msg=_LOGISTIC_SOLVER_CONVERGENCE_MSG)\n"
          ],
          "name": "stderr"
        },
        {
          "output_type": "execute_result",
          "data": {
            "text/plain": [
              "LogisticRegression(C=1.0, class_weight=None, dual=False, fit_intercept=True,\n",
              "                   intercept_scaling=1, l1_ratio=None, max_iter=50,\n",
              "                   multi_class='auto', n_jobs=None, penalty='l2',\n",
              "                   random_state=0, solver='lbfgs', tol=0.0001, verbose=0,\n",
              "                   warm_start=False)"
            ]
          },
          "metadata": {
            "tags": []
          },
          "execution_count": 92
        }
      ]
    },
    {
      "cell_type": "code",
      "metadata": {
        "id": "3bp2OThjXdJz",
        "colab_type": "code",
        "outputId": "30065a8e-0824-438f-c402-8d1ffff7ade4",
        "colab": {
          "base_uri": "https://localhost:8080/",
          "height": 423
        }
      },
      "source": [
        "prediction = logisticRegr.predict(X_test)\n",
        "displayData = []\n",
        "\n",
        "ind = 0\n",
        "for index, row in test_set.iterrows():\n",
        "  entry = [prediction[ind], row[\"Phrase\"]]\n",
        "  displayData.append(entry)\n",
        "  ind += 1\n",
        "displayData.sort(key = lambda x: -x[0])\n",
        "\n",
        "def threshold(data): #maps data to correct scores\n",
        "  limit = 4\n",
        "  maxData = 0\n",
        "  for d in data:\n",
        "    maxData = max(maxData, d[0])\n",
        "  for d in data:\n",
        "    d[0] = int(round(d[0]*limit/maxData))\n",
        "\n",
        "def rescale(data):\n",
        "  data.sort(key = lambda x: x[0])\n",
        "  print(data[:10])\n",
        "  chances = [0,0,0,0,0]\n",
        "  entry_count = len(test_set)\n",
        "  for index, row in test_set.iterrows():\n",
        "    chances[row[\"Sentiment\"]] += 1\n",
        "  print(chances)\n",
        "  for i in range(len(chances)):\n",
        "    if i != 0:\n",
        "      chances[i] += chances[i-1]\n",
        "  print(chances)\n",
        "  sent = 0    #increases when reached a certain percentage of data, same as in train set\n",
        "  for i in range(len(data)):\n",
        "    d = data[i]\n",
        "    d[0] = sent\n",
        "    if i > chances[sent]:\n",
        "      sent += 1\n",
        "\n",
        "\n",
        "rescale(displayData)\n",
        "# threshold(displayData)\n",
        "displayData[0:10]\n"
      ],
      "execution_count": 93,
      "outputs": [
        {
          "output_type": "stream",
          "text": [
            "[[-5.0, \"One thing 's for sure -- if George Romero had directed this movie , it would n't have taken the protagonists a full hour to determine that in order to kill a zombie you must shoot it in the head .\"], [-5.0, 'Girlfriends are bad , wives are worse and babies are the kiss of death in this bitter Italian comedy .'], [-4.0, 'too many scenarios in which the hero might have an opportunity to triumphantly sermonize , and too few that allow us to wonder for ourselves if things will turn out okay .'], [-4.0, 'The makers of Mothman Prophecies succeed in producing that most frightening of all movies -- a mediocre horror film too bad to be good and too good to be bad .'], [-3.0, 'The gags that fly at such a furiously funny pace that the only rip off that we were aware of was the one we felt when the movie ended so damned soon .'], [-3.0, 'MIB II is a movie that makes it possible for the viewer to doze off for a few minutes or make several runs to the concession stand and\\\\/or restroom and not feel as if he or she has missed anything .'], [-3.0, 'The story , touching though it is , does not quite have enough emotional resonance or variety of incident to sustain a feature , and even at 85 minutes it feels a bit long .'], [-3.0, \"For every articulate player , such as skateboarder Tony Hawk or BMX rider Mat Hoffman , are about a half dozen young Turks angling to see how many times they can work the words `` radical '' or `` suck '' into a sentence .\"], [-3.0, 'Such an incomprehensible mess that it feels less like bad cinema than like being stuck in a dark pit having a nightmare about bad cinema .'], [-3.0, 'This is a film tailor-made for those who when they were in high school would choose the Cliff-Notes over reading a full-length classic .']]\n",
            "[194, 390, 293, 419, 233]\n",
            "[194, 584, 877, 1296, 1529]\n"
          ],
          "name": "stdout"
        },
        {
          "output_type": "execute_result",
          "data": {
            "text/plain": [
              "[[0,\n",
              "  \"One thing 's for sure -- if George Romero had directed this movie , it would n't have taken the protagonists a full hour to determine that in order to kill a zombie you must shoot it in the head .\"],\n",
              " [0,\n",
              "  'Girlfriends are bad , wives are worse and babies are the kiss of death in this bitter Italian comedy .'],\n",
              " [0,\n",
              "  'too many scenarios in which the hero might have an opportunity to triumphantly sermonize , and too few that allow us to wonder for ourselves if things will turn out okay .'],\n",
              " [0,\n",
              "  'The makers of Mothman Prophecies succeed in producing that most frightening of all movies -- a mediocre horror film too bad to be good and too good to be bad .'],\n",
              " [0,\n",
              "  'The gags that fly at such a furiously funny pace that the only rip off that we were aware of was the one we felt when the movie ended so damned soon .'],\n",
              " [0,\n",
              "  'MIB II is a movie that makes it possible for the viewer to doze off for a few minutes or make several runs to the concession stand and\\\\/or restroom and not feel as if he or she has missed anything .'],\n",
              " [0,\n",
              "  'The story , touching though it is , does not quite have enough emotional resonance or variety of incident to sustain a feature , and even at 85 minutes it feels a bit long .'],\n",
              " [0,\n",
              "  \"For every articulate player , such as skateboarder Tony Hawk or BMX rider Mat Hoffman , are about a half dozen young Turks angling to see how many times they can work the words `` radical '' or `` suck '' into a sentence .\"],\n",
              " [0,\n",
              "  'Such an incomprehensible mess that it feels less like bad cinema than like being stuck in a dark pit having a nightmare about bad cinema .'],\n",
              " [0,\n",
              "  'This is a film tailor-made for those who when they were in high school would choose the Cliff-Notes over reading a full-length classic .']]"
            ]
          },
          "metadata": {
            "tags": []
          },
          "execution_count": 93
        }
      ]
    },
    {
      "cell_type": "code",
      "metadata": {
        "id": "Zd0cWhYY-Was",
        "colab_type": "code",
        "outputId": "4a8301dd-6489-44ab-f0a3-1ee23b09e078",
        "colab": {
          "base_uri": "https://localhost:8080/",
          "height": 34
        }
      },
      "source": [
        "def check(predictions): #[2, 'At 78 minutes it just zings along with vibrance and warmth .']]\n",
        "  good, bad = 0, 0\n",
        "  for p in predictions:\n",
        "    if p[0] != int(sentence_dict[p[1]]):\n",
        "      bad += 1\n",
        "    else:\n",
        "      good += 1\n",
        "  return (good/(bad+good))\n",
        "  \n",
        "check(displayData) #accuracy of prediction\n"
      ],
      "execution_count": 94,
      "outputs": [
        {
          "output_type": "execute_result",
          "data": {
            "text/plain": [
              "0.31131458469587964"
            ]
          },
          "metadata": {
            "tags": []
          },
          "execution_count": 94
        }
      ]
    },
    {
      "cell_type": "markdown",
      "metadata": {
        "id": "hp5CwrGlndKK",
        "colab_type": "text"
      },
      "source": [
        ""
      ]
    }
  ]
}