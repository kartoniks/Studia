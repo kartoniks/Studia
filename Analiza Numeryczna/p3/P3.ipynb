{
 "cells": [
  {
   "cell_type": "markdown",
   "metadata": {},
   "source": [
    "Rozkład LU"
   ]
  },
  {
   "cell_type": "markdown",
   "metadata": {},
   "source": [
    "Funkcje pomocnicze (suma po k od 1 do i-1 elementów Ai,k * Bk,j oraz suma po k od 1 do i-1 elementów Aj,k * Bk,i)"
   ]
  },
  {
   "cell_type": "markdown",
   "metadata": {},
   "source": [
    "Rozkład LU macierzy A"
   ]
  },
  {
   "cell_type": "code",
   "execution_count": 1,
   "metadata": {},
   "outputs": [
    {
     "data": {
      "text/plain": [
       "LU_decomposition (generic function with 1 method)"
      ]
     },
     "execution_count": 1,
     "metadata": {},
     "output_type": "execute_result"
    }
   ],
   "source": [
    "function LU_decomposition(A)\n",
    "    n = size(A)[1]\n",
    "    L = zeros(Float64,n,n)\n",
    "    U = zeros(Float64,n,n)\n",
    "    function sum_of_mults(A,B,i,j)\n",
    "        s = Float64(0)\n",
    "        for k = 1:i-1\n",
    "            s += A[i,k] * B[k,j]\n",
    "        end\n",
    "        return s\n",
    "    end\n",
    "    function sum_of_mults2(A,B,i,j)\n",
    "        s = Float64(0)\n",
    "        for k = 1:i-1\n",
    "            s += A[j,k] * B[k,i]\n",
    "        end\n",
    "        return s\n",
    "    end\n",
    "    for i = 1:n\n",
    "        U[i,i] = A[i,i] - sum_of_mults(L,U,i,i)\n",
    "        L[i,i] = 1\n",
    "        for j = (i+1):n\n",
    "            U[i,j] = A[i,j] - sum_of_mults(L,U,i,j)\n",
    "            L[j,i] = 1/U[i,i] * (A[j,i] - sum_of_mults2(L,U,i,j))\n",
    "        end\n",
    "    end\n",
    "    return L,U\n",
    "end\n",
    "    "
   ]
  },
  {
   "cell_type": "markdown",
   "metadata": {},
   "source": [
    "Przykład działania"
   ]
  },
  {
   "cell_type": "code",
   "execution_count": 2,
   "metadata": {},
   "outputs": [
    {
     "data": {
      "text/plain": [
       "3×3 Array{Int64,2}:\n",
       " 1  4  7\n",
       " 2  5  8\n",
       " 3  6  9"
      ]
     },
     "execution_count": 2,
     "metadata": {},
     "output_type": "execute_result"
    }
   ],
   "source": [
    "A = [[1 4 7];[2 5 8];[3 6 9]]"
   ]
  },
  {
   "cell_type": "code",
   "execution_count": 3,
   "metadata": {},
   "outputs": [
    {
     "data": {
      "text/plain": [
       "([1.0 0.0 0.0; 2.0 1.0 0.0; 3.0 2.0 1.0], [1.0 4.0 7.0; 0.0 -3.0 -6.0; 0.0 0.0 0.0])"
      ]
     },
     "execution_count": 3,
     "metadata": {},
     "output_type": "execute_result"
    }
   ],
   "source": [
    "L,U = LU_decomposition(A)"
   ]
  },
  {
   "cell_type": "code",
   "execution_count": 4,
   "metadata": {},
   "outputs": [
    {
     "data": {
      "text/plain": [
       "3×3 Array{Float64,2}:\n",
       " 1.0  0.0  0.0\n",
       " 2.0  1.0  0.0\n",
       " 3.0  2.0  1.0"
      ]
     },
     "execution_count": 4,
     "metadata": {},
     "output_type": "execute_result"
    }
   ],
   "source": [
    "L"
   ]
  },
  {
   "cell_type": "code",
   "execution_count": 5,
   "metadata": {},
   "outputs": [
    {
     "data": {
      "text/plain": [
       "3×3 Array{Float64,2}:\n",
       " 1.0   4.0   7.0\n",
       " 0.0  -3.0  -6.0\n",
       " 0.0   0.0   0.0"
      ]
     },
     "execution_count": 5,
     "metadata": {},
     "output_type": "execute_result"
    }
   ],
   "source": [
    "U"
   ]
  },
  {
   "cell_type": "code",
   "execution_count": 6,
   "metadata": {},
   "outputs": [
    {
     "data": {
      "text/plain": [
       "3×3 Array{Float64,2}:\n",
       " 1.0  4.0  7.0\n",
       " 2.0  5.0  8.0\n",
       " 3.0  6.0  9.0"
      ]
     },
     "execution_count": 6,
     "metadata": {},
     "output_type": "execute_result"
    }
   ],
   "source": [
    "L*U"
   ]
  },
  {
   "cell_type": "markdown",
   "metadata": {},
   "source": [
    "No działa"
   ]
  },
  {
   "cell_type": "markdown",
   "metadata": {},
   "source": [
    "Funkcja do rozwiązywania układów równań A \\* X = B za pomocą metory LU L\\*(U\\*X) = B"
   ]
  },
  {
   "cell_type": "code",
   "execution_count": 7,
   "metadata": {},
   "outputs": [
    {
     "data": {
      "text/plain": [
       "solve (generic function with 1 method)"
      ]
     },
     "execution_count": 7,
     "metadata": {},
     "output_type": "execute_result"
    }
   ],
   "source": [
    "function solve(L,U,B)\n",
    "    n = size(A)[1]\n",
    "    Y = zeros(Float64,n,1)\n",
    "    X = zeros(Float64,n,1)\n",
    "    Y[1] = B[1]\n",
    "    function sum(L,Y,i)\n",
    "        s = Float64(0)\n",
    "        for j = 1:i-1\n",
    "            s += L[i,j] * Y[j]\n",
    "        end\n",
    "        return s\n",
    "    end\n",
    "    for i = 2:n\n",
    "        Y[i] = B[i] - sum(L,Y,i)\n",
    "    end\n",
    "    function sum2(U,X,i,n)\n",
    "        s = Float64(0)\n",
    "        for j = (i+1):n\n",
    "            s += U[i,j] * X[j]\n",
    "        end\n",
    "        return s\n",
    "    end\n",
    "    X[n] = Y[n] / U[n,n]\n",
    "    for i = (n-1):-1:1\n",
    "        X[i] = 1/U[i,i] * (Y[i] - sum2(U,X,i,n))\n",
    "    end\n",
    "    return X\n",
    "end "
   ]
  },
  {
   "cell_type": "markdown",
   "metadata": {},
   "source": [
    "Test"
   ]
  },
  {
   "cell_type": "code",
   "execution_count": 8,
   "metadata": {},
   "outputs": [
    {
     "data": {
      "text/plain": [
       "4×4 Array{Int64,2}:\n",
       " 4  -2  4  -2\n",
       " 3   1  4   2\n",
       " 2   4  2   1\n",
       " 2  -2  4   2"
      ]
     },
     "execution_count": 8,
     "metadata": {},
     "output_type": "execute_result"
    }
   ],
   "source": [
    "A2 = [[4 -2 4 -2];[3 1 4 2];[2 4 2 1];[2 -2 4 2]]"
   ]
  },
  {
   "cell_type": "code",
   "execution_count": 9,
   "metadata": {},
   "outputs": [
    {
     "data": {
      "text/plain": [
       "4-element Array{Int64,1}:\n",
       "  8\n",
       "  7\n",
       " 10\n",
       "  2"
      ]
     },
     "execution_count": 9,
     "metadata": {},
     "output_type": "execute_result"
    }
   ],
   "source": [
    "B = [8; 7; 10; 2]"
   ]
  },
  {
   "cell_type": "code",
   "execution_count": 10,
   "metadata": {},
   "outputs": [
    {
     "data": {
      "text/plain": [
       "([1.0 0.0 0.0 0.0; 0.75 1.0 0.0 0.0; 0.5 2.0 1.0 0.0; 0.5 -0.4 -1.2 1.0], [4.0 -2.0 4.0 -2.0; 0.0 2.5 1.0 3.5; 0.0 0.0 -2.0 -5.0; 0.0 0.0 0.0 -1.6])"
      ]
     },
     "execution_count": 10,
     "metadata": {},
     "output_type": "execute_result"
    }
   ],
   "source": [
    "L2,U2 = LU_decomposition(A2)"
   ]
  },
  {
   "cell_type": "code",
   "execution_count": 11,
   "metadata": {},
   "outputs": [
    {
     "data": {
      "text/plain": [
       "3×1 Array{Float64,2}:\n",
       "  4.6               \n",
       "  1.2000000000000002\n",
       " -2.0               "
      ]
     },
     "execution_count": 11,
     "metadata": {},
     "output_type": "execute_result"
    }
   ],
   "source": [
    "solve(L2,U2,B)"
   ]
  },
  {
   "cell_type": "markdown",
   "metadata": {},
   "source": [
    "Też działa"
   ]
  },
  {
   "cell_type": "markdown",
   "metadata": {},
   "source": [
    "Wyznaczanie A^-1 za pomocą rozkładu LU"
   ]
  },
  {
   "cell_type": "markdown",
   "metadata": {},
   "source": [
    "Niech X = A^-1"
   ]
  },
  {
   "cell_type": "code",
   "execution_count": 12,
   "metadata": {},
   "outputs": [
    {
     "data": {
      "text/plain": [
       "invertible (generic function with 1 method)"
      ]
     },
     "execution_count": 12,
     "metadata": {},
     "output_type": "execute_result"
    }
   ],
   "source": [
    "function invertible(A)\n",
    "    n = size(A)[1]\n",
    "    L,U = LU_decomposition(A)\n",
    "    B = zeros(Float64,n)\n",
    "    B[1] = 1\n",
    "    X = solve(L,U,B)\n",
    "    for i = 2:n\n",
    "        B = zeros(Float64,n)\n",
    "        B[i] = 1\n",
    "        X = [X (solve(L,U,B))]\n",
    "    end\n",
    "    return X\n",
    "end\n",
    "    "
   ]
  },
  {
   "cell_type": "code",
   "execution_count": 270,
   "metadata": {},
   "outputs": [
    {
     "data": {
      "text/plain": [
       "3×3 Array{Int64,2}:\n",
       " 2  -2  18\n",
       " 2   1   0\n",
       " 1   2   0"
      ]
     },
     "execution_count": 270,
     "metadata": {},
     "output_type": "execute_result"
    }
   ],
   "source": [
    "A = [[2 -2 18];[2 1 0];[1 2 0]]"
   ]
  },
  {
   "cell_type": "code",
   "execution_count": 53,
   "metadata": {},
   "outputs": [],
   "source": [
    "using LinearAlgebra"
   ]
  },
  {
   "cell_type": "code",
   "execution_count": 54,
   "metadata": {},
   "outputs": [
    {
     "data": {
      "text/plain": [
       "_norm (generic function with 1 method)"
      ]
     },
     "execution_count": 54,
     "metadata": {},
     "output_type": "execute_result"
    }
   ],
   "source": [
    "function _norm(v)\n",
    "    n = 0\n",
    "    for i = 1:length(v)\n",
    "        n += v[i]*v[i]\n",
    "    end\n",
    "    return sqrt(n)\n",
    "end\n",
    "#norm([1,2,3]) #powinno 14"
   ]
  },
  {
   "cell_type": "markdown",
   "metadata": {},
   "source": [
    "To też działa :O"
   ]
  },
  {
   "cell_type": "code",
   "execution_count": 380,
   "metadata": {},
   "outputs": [
    {
     "data": {
      "text/plain": [
       "3×3 Array{Float64,2}:\n",
       " 1.0  2.0  3.0\n",
       " 4.0  5.0  6.0\n",
       " 7.0  8.0  9.0"
      ]
     },
     "execution_count": 380,
     "metadata": {},
     "output_type": "execute_result"
    }
   ],
   "source": [
    "function householder(A, k) #k jest którą macierz Householdera liczymy\n",
    "    n = size(A)[1]\n",
    "    v = A[k:n,k]\n",
    "    v[1] = (sign(A[k,k])*norm(v)) + v[1]\n",
    "    vt = transpose(v)\n",
    "    H = -2 * v*vt / (vt*v) + I\n",
    "    ret = zeros(n,n)\n",
    "    for i = 1:k-1\n",
    "        ret[i,i] = 1\n",
    "    end\n",
    "    for i = k:n\n",
    "        for j = k:n\n",
    "            ret[i,j] = H[i-k+1,j-k+1]\n",
    "        end\n",
    "    end\n",
    "    return ret\n",
    "end\n",
    "\n",
    "#############################TEST\n",
    "B =  [1 2 3.0;\n",
    "      4 5 6;\n",
    "      7 8 9]\n",
    "#  H1 = householder(B,1)\n",
    "#  B = H1*B\n",
    "\n",
    "# H1 = householder(A, 1)\n",
    "# A = H1*A\n",
    "# H2 = householder(A, 2)\n",
    "# A = H2*A\n",
    "#H3 = householder(H2, 3)"
   ]
  },
  {
   "cell_type": "code",
   "execution_count": 381,
   "metadata": {},
   "outputs": [
    {
     "data": {
      "text/plain": [
       "3×3 Array{Float64,2}:\n",
       " 1.0  2.0  3.0\n",
       " 4.0  5.0  6.0\n",
       " 7.0  8.0  9.0"
      ]
     },
     "execution_count": 381,
     "metadata": {},
     "output_type": "execute_result"
    }
   ],
   "source": [
    "function QRfactorize(A) #rozkład na macierze Q,R takie, że QR=A\n",
    "    n = size(A)[1]\n",
    "    Q = I\n",
    "    H = A\n",
    "    for i = 1:n\n",
    "        H = householder(A, i)\n",
    "        A = H * A\n",
    "        Q = Q*H\n",
    "    end\n",
    "    return Q,A\n",
    "end   \n",
    "############################TEST\n",
    "B =  [1 2 3.0;\n",
    "      4 5 6;\n",
    "      7 8 9]\n",
    "_B = QRfactorize(B)\n",
    "_B[1] * _B[2]\n"
   ]
  },
  {
   "cell_type": "code",
   "execution_count": 395,
   "metadata": {},
   "outputs": [
    {
     "data": {
      "text/plain": [
       "3×3 Array{Float64,2}:\n",
       " 1.0  2.0  3.0\n",
       " 0.0  5.0  6.0\n",
       " 0.0  0.0  9.0"
      ]
     },
     "execution_count": 395,
     "metadata": {},
     "output_type": "execute_result"
    }
   ],
   "source": [
    "function inv_tri(B) #odwrotność macierzy górnotrójkątnej B w O(n^3)\n",
    "    n = size(B)[1]\n",
    "    A = deepcopy(B)\n",
    "    for i = 1:n\n",
    "        A[i,i] = 1/A[i,i]\n",
    "    end\n",
    "    for i = n-1:-1:1\n",
    "        for j = n:-1:i+1\n",
    "            s = 0.0\n",
    "            for k = i+1:j\n",
    "                s += A[i,k]*A[k,j]\n",
    "            end\n",
    "            A[i,j] = - A[i,i]*s\n",
    "        end\n",
    "    end\n",
    "    return A\n",
    "end\n",
    "########################TEST\n",
    "B =  [1 2 3;\n",
    "      0 5 6;\n",
    "      0 0 9.0]\n",
    "inv_tri(inv_tri(B))\n",
    "\n",
    "#  1.0  -0.4  -0.0666667\n",
    "#  0.0   0.2  -0.133333 \n",
    "#  0.0   0.0   0.111111"
   ]
  },
  {
   "cell_type": "code",
   "execution_count": 416,
   "metadata": {},
   "outputs": [
    {
     "data": {
      "text/plain": [
       "3×3 Array{Float64,2}:\n",
       " 2.0   -2.0  18.0\n",
       " 7.0  124.0   9.0\n",
       " 9.0    2.0   2.0"
      ]
     },
     "execution_count": 416,
     "metadata": {},
     "output_type": "execute_result"
    }
   ],
   "source": [
    "function QRinv(A)\n",
    "    Q,R = QRfactorize(A)\n",
    "    R_i = inv_tri(R)\n",
    "    Q_t = transpose(Q)\n",
    "    return R_i*Q_t\n",
    "end\n",
    "\n",
    "B = [2 -2 18;\n",
    "     7 124 9;\n",
    "     9 2 2.0]\n",
    "\n",
    "#######################################TEST\n",
    "QRinv(QRinv(B))\n"
   ]
  }
 ],
 "metadata": {
  "@webio": {
   "lastCommId": "a82caf82c3ba43bc8376b30400aab5c1",
   "lastKernelId": "0ba644cf-87c5-4729-a450-f055a053a804"
  },
  "kernelspec": {
   "display_name": "Julia 1.0.1",
   "language": "julia",
   "name": "julia-1.0"
  },
  "language_info": {
   "file_extension": ".jl",
   "mimetype": "application/julia",
   "name": "julia",
   "version": "1.0.1"
  }
 },
 "nbformat": 4,
 "nbformat_minor": 2
}
