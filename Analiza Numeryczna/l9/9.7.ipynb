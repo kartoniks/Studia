{
 "cells": [
  {
   "cell_type": "markdown",
   "metadata": {},
   "source": [
    "Funkcja Rungego"
   ]
  },
  {
   "cell_type": "code",
   "execution_count": 1,
   "metadata": {},
   "outputs": [
    {
     "data": {
      "text/plain": [
       "f (generic function with 1 method)"
      ]
     },
     "execution_count": 1,
     "metadata": {},
     "output_type": "execute_result"
    }
   ],
   "source": [
    "function f(x)\n",
    "    return Float64(Float64(1)/(Float64(25)*(x^Float64(2)) + Float64(1)))\n",
    "end"
   ]
  },
  {
   "cell_type": "markdown",
   "metadata": {},
   "source": [
    "Funkcja max ( |f(xk) - w(xk)| ) na przedziale [-1,1] w N równoodległych punktach"
   ]
  },
  {
   "cell_type": "code",
   "execution_count": 2,
   "metadata": {},
   "outputs": [],
   "source": [
    "N = 1000\n",
    "x_k = zeros(Float64, N+1)\n",
    "for i = 0:N\n",
    "    x_k[i+1] = -1 + (2*i)/N\n",
    "end\n"
   ]
  },
  {
   "cell_type": "code",
   "execution_count": 3,
   "metadata": {},
   "outputs": [
    {
     "data": {
      "text/plain": [
       "max (generic function with 1 method)"
      ]
     },
     "execution_count": 3,
     "metadata": {},
     "output_type": "execute_result"
    }
   ],
   "source": [
    "function max(f,w)\n",
    "    e_k = zeros(Float64, N+1)\n",
    "    for i = 1:(N+1)\n",
    "        e_k[i] = abs(f(x_k[i]) - w(x_k[i]))\n",
    "    end\n",
    "    return maximum(e_k)\n",
    "end"
   ]
  },
  {
   "cell_type": "markdown",
   "metadata": {},
   "source": [
    "Wielomian interpolacyjny Newtona"
   ]
  },
  {
   "cell_type": "code",
   "execution_count": 4,
   "metadata": {},
   "outputs": [
    {
     "data": {
      "text/plain": [
       "newton_coeffs (generic function with 1 method)"
      ]
     },
     "execution_count": 4,
     "metadata": {},
     "output_type": "execute_result"
    }
   ],
   "source": [
    "function newton_coeffs(nodes, f_vals)\n",
    "    coeffs = Float64[]\n",
    "    len = length(nodes)\n",
    "    f_values = copy(f_vals)\n",
    "\n",
    "    push!(coeffs, f_values[1])\n",
    "    \n",
    "    for j = 1:len-1\n",
    "        for i = 1:len-j\n",
    "            f_values[i] = ((f_values[i] - f_values[i + 1])\n",
    "                             / (nodes[i] - nodes[i + j]))\n",
    "        end\n",
    "        push!(coeffs, f_values[1])\n",
    "    end\n",
    "    coeffs\n",
    "end"
   ]
  },
  {
   "cell_type": "code",
   "execution_count": 5,
   "metadata": {},
   "outputs": [
    {
     "data": {
      "text/plain": [
       "Newton (generic function with 1 method)"
      ]
     },
     "execution_count": 5,
     "metadata": {},
     "output_type": "execute_result"
    }
   ],
   "source": [
    "function Newton(x, xnodes, f_values)\n",
    "    listofa = newton_coeffs(xnodes, f_values)\n",
    "    sum = 0\n",
    "    for i = 1:length(listofa)\n",
    "        product = 1\n",
    "        for j = 1:i-1\n",
    "            product *= (x - xnodes[j])\n",
    "        end\n",
    "        sum += product * listofa[i]\n",
    "    end\n",
    "    return sum\n",
    "end"
   ]
  },
  {
   "cell_type": "markdown",
   "metadata": {},
   "source": [
    "Przykład użycia Newtona (podajemy wiejsce, w którym chcemy wartość, punkty w których interpolujemy (jako listę) oraz wartości funkcji w tych punktach)"
   ]
  },
  {
   "cell_type": "code",
   "execution_count": 6,
   "metadata": {},
   "outputs": [
    {
     "data": {
      "text/plain": [
       "1.0"
      ]
     },
     "execution_count": 6,
     "metadata": {},
     "output_type": "execute_result"
    }
   ],
   "source": [
    "Newton(0, [-2,-1, 0, 1, 2, 3], [31, 5, 1, 1, 11, 61])"
   ]
  },
  {
   "cell_type": "markdown",
   "metadata": {},
   "source": [
    "a) Wielomian interpolujący funkcję f w węzłach równoodległych"
   ]
  },
  {
   "cell_type": "markdown",
   "metadata": {},
   "source": [
    "Wielomian ma być stopnia 9, więc potrzebujemy 10 równoodległych punktów na przedziale [-1,1]"
   ]
  },
  {
   "cell_type": "code",
   "execution_count": 7,
   "metadata": {},
   "outputs": [],
   "source": [
    "x_k2 = zeros(Float64,10)\n",
    "for i = 1:10\n",
    "    x_k2[i] = -1 + (i-1)*Float64((2/9))\n",
    "end\n",
    "fx_k2 = zeros(Float64,10)\n",
    "for i = 1:10\n",
    "    fx_k2[i] = f(x_k2[i])\n",
    "end"
   ]
  },
  {
   "cell_type": "code",
   "execution_count": 8,
   "metadata": {},
   "outputs": [
    {
     "data": {
      "text/plain": [
       "wa (generic function with 1 method)"
      ]
     },
     "execution_count": 8,
     "metadata": {},
     "output_type": "execute_result"
    }
   ],
   "source": [
    "function wa(x)\n",
    "    Newton(x,x_k2,fx_k2)\n",
    "end"
   ]
  },
  {
   "cell_type": "markdown",
   "metadata": {},
   "source": [
    "10 zer T10"
   ]
  },
  {
   "cell_type": "code",
   "execution_count": 9,
   "metadata": {},
   "outputs": [],
   "source": [
    "x_k3 = zeros(Float64,10)\n",
    "for i = 1:10\n",
    "    x_k3[i] = Float64(cos((2*i-1) * pi / 20 ))\n",
    "end\n",
    "fx_k3 = zeros(Float64,10)\n",
    "for i = 1:10\n",
    "    fx_k3[i] = f(x_k3[i])\n",
    "end"
   ]
  },
  {
   "cell_type": "code",
   "execution_count": 10,
   "metadata": {},
   "outputs": [
    {
     "data": {
      "text/plain": [
       "wb (generic function with 1 method)"
      ]
     },
     "execution_count": 10,
     "metadata": {},
     "output_type": "execute_result"
    }
   ],
   "source": [
    "function wb(x)\n",
    "    Newton(x,x_k3,fx_k3)\n",
    "end"
   ]
  },
  {
   "cell_type": "markdown",
   "metadata": {},
   "source": [
    "10 ekstremów T9"
   ]
  },
  {
   "cell_type": "code",
   "execution_count": 11,
   "metadata": {},
   "outputs": [],
   "source": [
    "x_k4 = zeros(Float64,10)\n",
    "for i = 1:10\n",
    "    x_k4[i] = Float64(cos( (i-1)*pi / 9 ))\n",
    "end\n",
    "fx_k4 = zeros(Float64,10)\n",
    "for i = 1:10\n",
    "    fx_k4[i] = f(x_k4[i])\n",
    "end"
   ]
  },
  {
   "cell_type": "code",
   "execution_count": 12,
   "metadata": {},
   "outputs": [
    {
     "data": {
      "text/plain": [
       "wc (generic function with 1 method)"
      ]
     },
     "execution_count": 12,
     "metadata": {},
     "output_type": "execute_result"
    }
   ],
   "source": [
    "function wc(x)\n",
    "    Newton(x,x_k4,fx_k4)\n",
    "end"
   ]
  },
  {
   "cell_type": "markdown",
   "metadata": {},
   "source": [
    "Algorytm Clenshawa dla wielomianów czebyszewa"
   ]
  },
  {
   "cell_type": "code",
   "execution_count": 13,
   "metadata": {},
   "outputs": [
    {
     "data": {
      "text/plain": [
       "clenshaw (generic function with 1 method)"
      ]
     },
     "execution_count": 13,
     "metadata": {},
     "output_type": "execute_result"
    }
   ],
   "source": [
    "function clenshaw(n,c,x)\n",
    "    Bk_1 = 0\n",
    "    Bk_2 = 0\n",
    "    for i = n:(-1):1\n",
    "        Bk = Float64(2) * x * Bk_1 - Bk_2 + c[i+1]\n",
    "        Bk_2 = Bk_1\n",
    "        Bk_1 = Bk\n",
    "    end\n",
    "    return x * Bk_1 - Bk_2 + c[1]/Float64(2)\n",
    "end"
   ]
  },
  {
   "cell_type": "code",
   "execution_count": 14,
   "metadata": {},
   "outputs": [],
   "source": [
    "using QuadGK"
   ]
  },
  {
   "cell_type": "code",
   "execution_count": 15,
   "metadata": {},
   "outputs": [
    {
     "data": {
      "text/plain": [
       "p (generic function with 1 method)"
      ]
     },
     "execution_count": 15,
     "metadata": {},
     "output_type": "execute_result"
    }
   ],
   "source": [
    "function p(x)\n",
    "    return Float64((Float64(1) - Float64(x^2)) ^ (0.5))\n",
    "end"
   ]
  },
  {
   "cell_type": "code",
   "execution_count": 16,
   "metadata": {},
   "outputs": [
    {
     "data": {
      "text/plain": [
       "T (generic function with 1 method)"
      ]
     },
     "execution_count": 16,
     "metadata": {},
     "output_type": "execute_result"
    }
   ],
   "source": [
    "function T(k,x)\n",
    "    return cos(k * acos(x))\n",
    "end"
   ]
  },
  {
   "cell_type": "markdown",
   "metadata": {},
   "source": [
    "Definicja 10-ciu pierwszych wielomianów Legandre`a"
   ]
  },
  {
   "cell_type": "code",
   "execution_count": 17,
   "metadata": {},
   "outputs": [],
   "source": [
    "function p0(x)\n",
    "    return 1\n",
    "end\n",
    "function p1(x)\n",
    "    return x\n",
    "end\n",
    "P_h = [p0,p1]\n",
    "for i = 2:10\n",
    "    push!(P_h, (x-> ((2*i-1)/i)*x*(P_h[i](x)) - ((i-1)/i) * (P_h[i-1](x)) ))\n",
    "end"
   ]
  },
  {
   "cell_type": "code",
   "execution_count": 18,
   "metadata": {},
   "outputs": [
    {
     "data": {
      "text/plain": [
       "P (generic function with 1 method)"
      ]
     },
     "execution_count": 18,
     "metadata": {},
     "output_type": "execute_result"
    }
   ],
   "source": [
    "function P(n,x)\n",
    "    P_h[n+1](x)\n",
    "end"
   ]
  },
  {
   "cell_type": "markdown",
   "metadata": {},
   "source": [
    "suma d0 \\* P0(x) + d1 \\* P1(x) + ... + dn \\* Pn(x) - można Clenshowem w wersji dla Legandre`a, ale coś nie wyszło"
   ]
  },
  {
   "cell_type": "code",
   "execution_count": 19,
   "metadata": {},
   "outputs": [
    {
     "data": {
      "text/plain": [
       "sum_of_legandre (generic function with 1 method)"
      ]
     },
     "execution_count": 19,
     "metadata": {},
     "output_type": "execute_result"
    }
   ],
   "source": [
    "function sum_of_legandre(n,d,x)\n",
    "    s = Float64(0)\n",
    "    for i = 0:n\n",
    "        s += d[i+1] * P(i,x)\n",
    "    end\n",
    "    return s\n",
    "end       "
   ]
  },
  {
   "cell_type": "markdown",
   "metadata": {},
   "source": [
    "obliczanie d_k = <f,Pk> (bardzo długo się liczą)"
   ]
  },
  {
   "cell_type": "code",
   "execution_count": 20,
   "metadata": {},
   "outputs": [],
   "source": [
    "d_k = zeros(Float64,10)\n",
    "for i = 0:9\n",
    "    d_k[i+1] = quadgk(x -> f(x) * P(i,x), -1, 1, maxevals = 10)[1]\n",
    "end"
   ]
  },
  {
   "cell_type": "markdown",
   "metadata": {},
   "source": [
    "obliczanie d_k2 = <f,Pk> / <Pk,Pk>, <Pk,Pk> = 2/(2k+1)"
   ]
  },
  {
   "cell_type": "code",
   "execution_count": 21,
   "metadata": {},
   "outputs": [],
   "source": [
    "d_k2 = zeros(Float64,10)\n",
    "for i = 0:9\n",
    "    d_k2[i+1] = d_k[i+1] * ((2*i + 1) / 2)\n",
    "end"
   ]
  },
  {
   "cell_type": "markdown",
   "metadata": {},
   "source": [
    "Wielomian optymalny w d) to suma d0 \\* P0(x) + d1 \\* P1(x) + ... + dn \\* Pn(x) dla d_k = <f,Pk> / <Pk,Pk>"
   ]
  },
  {
   "cell_type": "code",
   "execution_count": 22,
   "metadata": {},
   "outputs": [
    {
     "data": {
      "text/plain": [
       "wd (generic function with 1 method)"
      ]
     },
     "execution_count": 22,
     "metadata": {},
     "output_type": "execute_result"
    }
   ],
   "source": [
    "function wd(x)\n",
    "    return Float64(sum_of_legandre(9,d_k2,x) )\n",
    "end"
   ]
  },
  {
   "cell_type": "markdown",
   "metadata": {},
   "source": [
    "Podpunkt e to wielomian w(x) = pi/2 * (clenshaw n=9, ck = <f,Tk(x)>, x=x)"
   ]
  },
  {
   "cell_type": "code",
   "execution_count": 34,
   "metadata": {},
   "outputs": [],
   "source": [
    "c_k = zeros(Float64,10)\n",
    "for i = 0:9\n",
    "    c_k[i+1] = quadgk(x -> p(x) * f(x) * T(i,x), -1, 1)[1]\n",
    "end"
   ]
  },
  {
   "cell_type": "code",
   "execution_count": 24,
   "metadata": {},
   "outputs": [
    {
     "data": {
      "text/plain": [
       "we (generic function with 1 method)"
      ]
     },
     "execution_count": 24,
     "metadata": {},
     "output_type": "execute_result"
    }
   ],
   "source": [
    "function we(x)\n",
    "    return Float64( (2 / pi) * clenshaw(9,c_k,x))\n",
    "end"
   ]
  },
  {
   "cell_type": "code",
   "execution_count": 25,
   "metadata": {},
   "outputs": [
    {
     "data": {
      "text/plain": [
       "0.3002811297925676"
      ]
     },
     "execution_count": 25,
     "metadata": {},
     "output_type": "execute_result"
    }
   ],
   "source": [
    "max(f,wa)"
   ]
  },
  {
   "cell_type": "code",
   "execution_count": 26,
   "metadata": {},
   "outputs": [
    {
     "data": {
      "text/plain": [
       "0.2691783353450813"
      ]
     },
     "execution_count": 26,
     "metadata": {},
     "output_type": "execute_result"
    }
   ],
   "source": [
    "max(f,wb)"
   ]
  },
  {
   "cell_type": "code",
   "execution_count": 27,
   "metadata": {},
   "outputs": [
    {
     "data": {
      "text/plain": [
       "0.3190952547347733"
      ]
     },
     "execution_count": 27,
     "metadata": {},
     "output_type": "execute_result"
    }
   ],
   "source": [
    "max(f,wc)"
   ]
  },
  {
   "cell_type": "code",
   "execution_count": 28,
   "metadata": {},
   "outputs": [
    {
     "data": {
      "text/plain": [
       "0.1329194855653557"
      ]
     },
     "execution_count": 28,
     "metadata": {},
     "output_type": "execute_result"
    }
   ],
   "source": [
    "max(f,wd)"
   ]
  },
  {
   "cell_type": "code",
   "execution_count": 29,
   "metadata": {},
   "outputs": [
    {
     "data": {
      "text/plain": [
       "0.170571513367629"
      ]
     },
     "execution_count": 29,
     "metadata": {},
     "output_type": "execute_result"
    }
   ],
   "source": [
    "max(f,we)"
   ]
  },
  {
   "cell_type": "code",
   "execution_count": 30,
   "metadata": {},
   "outputs": [],
   "source": [
    "using Plots;\n"
   ]
  },
  {
   "cell_type": "code",
   "execution_count": 38,
   "metadata": {},
   "outputs": [
    {
     "data": {
      "image/svg+xml": [
       "<?xml version=\"1.0\" encoding=\"utf-8\"?>\n",
       "<svg xmlns=\"http://www.w3.org/2000/svg\" xmlns:xlink=\"http://www.w3.org/1999/xlink\" width=\"600\" height=\"400\" viewBox=\"0 0 2400 1600\">\n",
       "<defs>\n",
       "  <clipPath id=\"clip5900\">\n",
       "    <rect x=\"0\" y=\"0\" width=\"2000\" height=\"2000\"/>\n",
       "  </clipPath>\n",
       "</defs>\n",
       "<defs>\n",
       "  <clipPath id=\"clip5901\">\n",
       "    <rect x=\"0\" y=\"0\" width=\"2400\" height=\"1600\"/>\n",
       "  </clipPath>\n",
       "</defs>\n",
       "<polygon clip-path=\"url(#clip5901)\" points=\"\n",
       "0,1600 2400,1600 2400,0 0,0 \n",
       "  \" fill=\"#ffffff\" fill-rule=\"evenodd\" fill-opacity=\"1\"/>\n",
       "<defs>\n",
       "  <clipPath id=\"clip5902\">\n",
       "    <rect x=\"480\" y=\"0\" width=\"1681\" height=\"1600\"/>\n",
       "  </clipPath>\n",
       "</defs>\n",
       "<polygon clip-path=\"url(#clip5901)\" points=\"\n",
       "161.394,1503.47 2321.26,1503.47 2321.26,47.2441 161.394,47.2441 \n",
       "  \" fill=\"#ffffff\" fill-rule=\"evenodd\" fill-opacity=\"1\"/>\n",
       "<defs>\n",
       "  <clipPath id=\"clip5903\">\n",
       "    <rect x=\"161\" y=\"47\" width=\"2161\" height=\"1457\"/>\n",
       "  </clipPath>\n",
       "</defs>\n",
       "<polyline clip-path=\"url(#clip5903)\" style=\"stroke:#000000; stroke-width:2; stroke-opacity:0.1; fill:none\" points=\"\n",
       "  220.028,1503.47 220.028,47.2441 \n",
       "  \"/>\n",
       "<polyline clip-path=\"url(#clip5903)\" style=\"stroke:#000000; stroke-width:2; stroke-opacity:0.1; fill:none\" points=\"\n",
       "  730.865,1503.47 730.865,47.2441 \n",
       "  \"/>\n",
       "<polyline clip-path=\"url(#clip5903)\" style=\"stroke:#000000; stroke-width:2; stroke-opacity:0.1; fill:none\" points=\"\n",
       "  1241.7,1503.47 1241.7,47.2441 \n",
       "  \"/>\n",
       "<polyline clip-path=\"url(#clip5903)\" style=\"stroke:#000000; stroke-width:2; stroke-opacity:0.1; fill:none\" points=\"\n",
       "  1752.54,1503.47 1752.54,47.2441 \n",
       "  \"/>\n",
       "<polyline clip-path=\"url(#clip5903)\" style=\"stroke:#000000; stroke-width:2; stroke-opacity:0.1; fill:none\" points=\"\n",
       "  2263.38,1503.47 2263.38,47.2441 \n",
       "  \"/>\n",
       "<polyline clip-path=\"url(#clip5903)\" style=\"stroke:#000000; stroke-width:2; stroke-opacity:0.1; fill:none\" points=\"\n",
       "  161.394,1182.85 2321.26,1182.85 \n",
       "  \"/>\n",
       "<polyline clip-path=\"url(#clip5903)\" style=\"stroke:#000000; stroke-width:2; stroke-opacity:0.1; fill:none\" points=\"\n",
       "  161.394,854.334 2321.26,854.334 \n",
       "  \"/>\n",
       "<polyline clip-path=\"url(#clip5903)\" style=\"stroke:#000000; stroke-width:2; stroke-opacity:0.1; fill:none\" points=\"\n",
       "  161.394,525.816 2321.26,525.816 \n",
       "  \"/>\n",
       "<polyline clip-path=\"url(#clip5903)\" style=\"stroke:#000000; stroke-width:2; stroke-opacity:0.1; fill:none\" points=\"\n",
       "  161.394,197.298 2321.26,197.298 \n",
       "  \"/>\n",
       "<polyline clip-path=\"url(#clip5901)\" style=\"stroke:#000000; stroke-width:4; stroke-opacity:1; fill:none\" points=\"\n",
       "  161.394,1503.47 2321.26,1503.47 \n",
       "  \"/>\n",
       "<polyline clip-path=\"url(#clip5901)\" style=\"stroke:#000000; stroke-width:4; stroke-opacity:1; fill:none\" points=\"\n",
       "  161.394,1503.47 161.394,47.2441 \n",
       "  \"/>\n",
       "<polyline clip-path=\"url(#clip5901)\" style=\"stroke:#000000; stroke-width:4; stroke-opacity:1; fill:none\" points=\"\n",
       "  220.028,1503.47 220.028,1481.63 \n",
       "  \"/>\n",
       "<polyline clip-path=\"url(#clip5901)\" style=\"stroke:#000000; stroke-width:4; stroke-opacity:1; fill:none\" points=\"\n",
       "  730.865,1503.47 730.865,1481.63 \n",
       "  \"/>\n",
       "<polyline clip-path=\"url(#clip5901)\" style=\"stroke:#000000; stroke-width:4; stroke-opacity:1; fill:none\" points=\"\n",
       "  1241.7,1503.47 1241.7,1481.63 \n",
       "  \"/>\n",
       "<polyline clip-path=\"url(#clip5901)\" style=\"stroke:#000000; stroke-width:4; stroke-opacity:1; fill:none\" points=\"\n",
       "  1752.54,1503.47 1752.54,1481.63 \n",
       "  \"/>\n",
       "<polyline clip-path=\"url(#clip5901)\" style=\"stroke:#000000; stroke-width:4; stroke-opacity:1; fill:none\" points=\"\n",
       "  2263.38,1503.47 2263.38,1481.63 \n",
       "  \"/>\n",
       "<polyline clip-path=\"url(#clip5901)\" style=\"stroke:#000000; stroke-width:4; stroke-opacity:1; fill:none\" points=\"\n",
       "  161.394,1182.85 193.792,1182.85 \n",
       "  \"/>\n",
       "<polyline clip-path=\"url(#clip5901)\" style=\"stroke:#000000; stroke-width:4; stroke-opacity:1; fill:none\" points=\"\n",
       "  161.394,854.334 193.792,854.334 \n",
       "  \"/>\n",
       "<polyline clip-path=\"url(#clip5901)\" style=\"stroke:#000000; stroke-width:4; stroke-opacity:1; fill:none\" points=\"\n",
       "  161.394,525.816 193.792,525.816 \n",
       "  \"/>\n",
       "<polyline clip-path=\"url(#clip5901)\" style=\"stroke:#000000; stroke-width:4; stroke-opacity:1; fill:none\" points=\"\n",
       "  161.394,197.298 193.792,197.298 \n",
       "  \"/>\n",
       "<g clip-path=\"url(#clip5901)\">\n",
       "<text style=\"fill:#000000; fill-opacity:1; font-family:Arial,Helvetica Neue,Helvetica,sans-serif; font-size:48px; text-anchor:middle;\" transform=\"rotate(0, 220.028, 1557.47)\" x=\"220.028\" y=\"1557.47\">-1.0</text>\n",
       "</g>\n",
       "<g clip-path=\"url(#clip5901)\">\n",
       "<text style=\"fill:#000000; fill-opacity:1; font-family:Arial,Helvetica Neue,Helvetica,sans-serif; font-size:48px; text-anchor:middle;\" transform=\"rotate(0, 730.865, 1557.47)\" x=\"730.865\" y=\"1557.47\">-0.5</text>\n",
       "</g>\n",
       "<g clip-path=\"url(#clip5901)\">\n",
       "<text style=\"fill:#000000; fill-opacity:1; font-family:Arial,Helvetica Neue,Helvetica,sans-serif; font-size:48px; text-anchor:middle;\" transform=\"rotate(0, 1241.7, 1557.47)\" x=\"1241.7\" y=\"1557.47\">0.0</text>\n",
       "</g>\n",
       "<g clip-path=\"url(#clip5901)\">\n",
       "<text style=\"fill:#000000; fill-opacity:1; font-family:Arial,Helvetica Neue,Helvetica,sans-serif; font-size:48px; text-anchor:middle;\" transform=\"rotate(0, 1752.54, 1557.47)\" x=\"1752.54\" y=\"1557.47\">0.5</text>\n",
       "</g>\n",
       "<g clip-path=\"url(#clip5901)\">\n",
       "<text style=\"fill:#000000; fill-opacity:1; font-family:Arial,Helvetica Neue,Helvetica,sans-serif; font-size:48px; text-anchor:middle;\" transform=\"rotate(0, 2263.38, 1557.47)\" x=\"2263.38\" y=\"1557.47\">1.0</text>\n",
       "</g>\n",
       "<g clip-path=\"url(#clip5901)\">\n",
       "<text style=\"fill:#000000; fill-opacity:1; font-family:Arial,Helvetica Neue,Helvetica,sans-serif; font-size:48px; text-anchor:end;\" transform=\"rotate(0, 137.394, 1200.35)\" x=\"137.394\" y=\"1200.35\">0.0</text>\n",
       "</g>\n",
       "<g clip-path=\"url(#clip5901)\">\n",
       "<text style=\"fill:#000000; fill-opacity:1; font-family:Arial,Helvetica Neue,Helvetica,sans-serif; font-size:48px; text-anchor:end;\" transform=\"rotate(0, 137.394, 871.834)\" x=\"137.394\" y=\"871.834\">0.3</text>\n",
       "</g>\n",
       "<g clip-path=\"url(#clip5901)\">\n",
       "<text style=\"fill:#000000; fill-opacity:1; font-family:Arial,Helvetica Neue,Helvetica,sans-serif; font-size:48px; text-anchor:end;\" transform=\"rotate(0, 137.394, 543.316)\" x=\"137.394\" y=\"543.316\">0.6</text>\n",
       "</g>\n",
       "<g clip-path=\"url(#clip5901)\">\n",
       "<text style=\"fill:#000000; fill-opacity:1; font-family:Arial,Helvetica Neue,Helvetica,sans-serif; font-size:48px; text-anchor:end;\" transform=\"rotate(0, 137.394, 214.798)\" x=\"137.394\" y=\"214.798\">0.9</text>\n",
       "</g>\n",
       "<polyline clip-path=\"url(#clip5903)\" style=\"stroke:#009af9; stroke-width:4; stroke-opacity:1; fill:none\" points=\"\n",
       "  239.983,1139.11 424.496,1118.42 535.38,1098.28 629.131,1073.21 680.051,1054.85 730.972,1031.76 777.915,1004.84 824.859,970.697 875.188,923.196 925.517,860.246 \n",
       "  954.672,814.542 983.828,760.489 1012.98,696.789 1042.14,622.39 1068.05,547.02 1093.96,463.744 1119.87,374.996 1145.78,285.543 1168.5,212.353 1191.22,150.789 \n",
       "  1202.58,126.516 1213.94,107.641 1225.3,94.8029 1236.66,88.4582 1249.05,89.2043 1261.43,97.9063 1273.82,114.19 1286.2,137.378 1298.59,166.561 1310.98,200.674 \n",
       "  1323.36,238.593 1335.75,279.207 1360.67,365.003 1385.58,450.773 1410.5,531.974 1435.42,606.139 1462.97,678.827 1490.52,741.798 1518.07,795.82 1545.63,841.955 \n",
       "  1571.84,879.543 1598.05,911.89 1624.27,939.792 1650.48,963.934 1704.99,1004.52 1759.51,1035.3 1805.4,1055.67 1851.28,1072.24 1963.33,1101.57 2068.66,1119.84 \n",
       "  2237.41,1138.6 \n",
       "  \"/>\n",
       "<polyline clip-path=\"url(#clip5903)\" style=\"stroke:#e26f46; stroke-width:4; stroke-opacity:1; fill:none\" points=\"\n",
       "  222.522,1166.5 225.017,1190.9 227.511,1213.97 230.005,1235.75 232.5,1256.29 234.994,1275.61 237.489,1293.77 239.983,1310.79 245.749,1345.97 251.515,1375.7 \n",
       "  257.281,1400.39 263.047,1420.42 268.813,1436.17 274.579,1447.98 280.345,1456.18 286.111,1461.1 297.643,1462.26 309.175,1453.67 320.707,1437.28 332.239,1414.86 \n",
       "  355.303,1357.88 378.367,1292.84 401.431,1227.26 424.496,1166.46 438.356,1133.73 452.217,1104.51 466.077,1079.09 479.938,1057.64 493.798,1040.19 507.659,1026.67 \n",
       "  521.519,1016.9 535.38,1010.63 558.818,1007.13 582.256,1010.94 605.693,1020.06 629.131,1032.35 680.051,1060.06 730.972,1073.89 754.444,1071.54 777.915,1062.35 \n",
       "  801.387,1045.76 824.859,1021.54 850.024,987.198 875.188,944.639 900.352,894.665 925.517,838.379 983.828,691.486 1042.14,538.262 1068.05,473.845 1093.96,414.321 \n",
       "  1119.87,361.394 1145.78,316.579 1168.5,284.978 1191.22,261.303 1213.94,246.077 1236.66,239.636 1261.43,242.785 1286.2,256.457 1310.98,280.297 1335.75,313.678 \n",
       "  1360.67,356.001 1385.58,405.972 1410.5,462.268 1435.42,523.396 1490.52,667.563 1545.63,809.058 1571.84,870.289 1598.05,925.292 1624.27,972.698 1650.48,1011.47 \n",
       "  1677.74,1041.91 1704.99,1062.07 1732.25,1072.26 1759.51,1073.38 1805.4,1059.1 1851.28,1034.04 1879.3,1019.32 1907.31,1009.34 1935.32,1007.71 1963.33,1017.75 \n",
       "  1976.5,1027.3 1989.67,1040.25 2002.83,1056.75 2016,1076.85 2029.16,1100.55 2042.33,1127.71 2055.5,1158.1 2068.66,1191.33 2089.76,1249.08 2110.85,1309.53 \n",
       "  2131.94,1368.16 2153.04,1418.84 2163.58,1438.77 2174.13,1453.55 2184.68,1461.83 2195.22,1462.12 2205.77,1452.76 2216.32,1431.89 2221.59,1416.52 2226.86,1397.5 \n",
       "  2232.14,1374.55 2237.41,1347.36 2243.9,1307.61 2250.39,1260.36 2253.64,1233.72 2256.89,1204.96 2260.13,1173.99 \n",
       "  \"/>\n",
       "<polyline clip-path=\"url(#clip5903)\" style=\"stroke:#3da44d; stroke-width:4; stroke-opacity:1; fill:none\" points=\"\n",
       "  225.017,1134.04 230.005,1137.95 234.994,1141.18 239.983,1143.79 263.047,1149.1 286.111,1146.43 309.175,1139.2 332.239,1129.97 378.367,1112.23 424.496,1101.28 \n",
       "  479.938,1098.83 535.38,1103.26 582.256,1106.11 629.131,1102.4 654.591,1095.97 680.051,1085.68 705.512,1071.13 730.972,1052.05 754.444,1030.37 777.915,1004.82 \n",
       "  801.387,975.552 824.859,942.83 875.188,862.805 925.517,773.408 983.828,666.015 1042.14,564.315 1068.05,523.612 1093.96,486.84 1119.87,454.736 1145.78,427.943 \n",
       "  1168.5,409.247 1191.22,395.341 1213.94,386.442 1236.66,382.687 1261.43,384.521 1286.2,392.505 1310.98,406.491 1335.75,426.22 1360.67,451.494 1385.58,481.741 \n",
       "  1410.5,516.401 1435.42,554.83 1490.52,649.589 1545.63,750.865 1598.05,845.328 1650.48,930.853 1677.74,969.834 1704.99,1004.24 1732.25,1033.65 1759.51,1057.81 \n",
       "  1782.45,1074.06 1805.4,1086.66 1828.34,1095.82 1851.28,1101.83 1907.31,1106 1963.33,1101.81 2016,1098.52 2068.66,1102.88 2110.85,1114.18 2153.04,1130.74 \n",
       "  2174.13,1139.17 2195.22,1145.93 2216.32,1149.1 2237.41,1146.17 2243.9,1143.57 2250.39,1139.98 2256.89,1135.3 \n",
       "  \"/>\n",
       "<polyline clip-path=\"url(#clip5903)\" style=\"stroke:#c271d2; stroke-width:4; stroke-opacity:1; fill:none\" points=\"\n",
       "  230.005,1141.75 239.983,1141.79 332.239,1123.36 424.496,1112.61 479.938,1113.68 535.38,1114.52 582.256,1110.29 629.131,1097.83 654.591,1086.65 680.051,1071.98 \n",
       "  705.512,1053.69 730.972,1031.71 754.444,1008.25 777.915,981.847 801.387,952.722 824.859,921.151 925.517,767.017 1042.14,587.792 1068.05,553.737 1093.96,523.151 \n",
       "  1119.87,496.574 1145.78,474.48 1168.5,459.106 1191.22,447.694 1213.94,440.401 1236.66,437.325 1261.43,438.828 1286.2,445.369 1310.98,456.843 1335.75,473.062 \n",
       "  1360.67,493.897 1385.58,518.922 1410.5,547.726 1435.42,579.837 1490.52,659.913 1545.63,747.261 1598.05,831.028 1650.48,909.798 1677.74,947.139 1704.99,981.26 \n",
       "  1732.25,1011.71 1759.51,1038.18 1782.45,1057.23 1805.4,1073.29 1828.34,1086.41 1851.28,1096.69 1879.3,1105.69 1907.31,1111.25 1935.32,1114 1963.33,1114.68 \n",
       "  2016,1113.24 2068.66,1112.84 2153.04,1123.77 2237.41,1141.43 2250.39,1141.86 \n",
       "  \"/>\n",
       "<polyline clip-path=\"url(#clip5903)\" style=\"stroke:#ac8d18; stroke-width:4; stroke-opacity:1; fill:none\" points=\"\n",
       "  222.522,1015.89 225.017,1030.05 227.511,1043.45 230.005,1056.12 232.5,1068.08 234.994,1079.34 237.489,1089.94 239.983,1099.9 251.515,1138.17 263.047,1165.12 \n",
       "  274.579,1182.57 286.111,1192.13 297.643,1195.27 309.175,1193.27 320.707,1187.28 332.239,1178.29 355.303,1154.72 378.367,1128.18 401.431,1102.7 424.496,1080.97 \n",
       "  452.217,1061.96 479.938,1051.67 507.659,1049.77 535.38,1054.95 582.256,1074.11 629.131,1096.36 654.591,1105.61 680.051,1110.73 705.512,1110.34 730.972,1103.34 \n",
       "  754.444,1090.36 777.915,1070.75 801.387,1044.37 824.859,1011.34 850.024,968.938 875.188,919.945 900.352,865.268 925.517,806.011 983.828,658.31 1042.14,510.674 \n",
       "  1068.05,449.91 1093.96,394.302 1119.87,345.239 1145.78,303.951 1168.5,274.964 1191.22,253.314 1213.94,239.419 1236.66,233.547 1261.43,236.417 1286.2,248.889 \n",
       "  1310.98,270.679 1335.75,301.285 1360.67,340.259 1385.58,386.54 1410.5,439.056 1435.42,496.593 1490.52,634.914 1545.63,775.85 1571.84,839.357 1598.05,898.487 \n",
       "  1624.27,951.912 1650.48,998.517 1677.74,1038.83 1704.99,1070.26 1732.25,1092.58 1759.51,1106 1782.45,1110.87 1805.4,1110.51 1828.34,1105.75 1851.28,1097.61 \n",
       "  1907.31,1071.16 1963.33,1051.32 1989.67,1049.74 2016,1055.24 2042.33,1068.58 2068.66,1089.58 2110.85,1134.9 2153.04,1179.91 2163.58,1187.86 2174.13,1193.24 \n",
       "  2184.68,1195.28 2195.22,1193.13 2205.77,1185.81 2216.32,1172.23 2226.86,1151.2 2237.41,1121.39 2240.65,1110.22 2243.9,1098.04 2247.15,1084.8 2250.39,1070.45 \n",
       "  2253.64,1054.94 2256.89,1038.22 2260.13,1020.24 \n",
       "  \"/>\n",
       "<polyline clip-path=\"url(#clip5903)\" style=\"stroke:#00a9ad; stroke-width:4; stroke-opacity:1; fill:none\" points=\"\n",
       "  225.017,1159.83 230.005,1171.64 234.994,1181.8 239.983,1190.4 251.515,1205.01 263.047,1213.26 274.579,1216.32 286.111,1215.23 309.175,1204.18 332.239,1186.15 \n",
       "  378.367,1146.04 424.496,1116.98 452.217,1108.45 479.938,1106.73 507.659,1110.84 535.38,1119.22 582.256,1137.69 629.131,1153.02 654.591,1156.74 680.051,1155.62 \n",
       "  705.512,1148.67 730.972,1135.18 754.444,1116.56 777.915,1091.84 801.387,1061.09 824.859,1024.53 850.024,979.384 875.188,928.762 900.352,873.564 925.517,814.836 \n",
       "  983.828,671.775 1042.14,531.934 1068.05,475.037 1093.96,423.243 1119.87,377.741 1145.78,339.58 1168.5,312.856 1191.22,292.93 1213.94,280.157 1236.66,274.762 \n",
       "  1261.43,277.398 1286.2,288.862 1310.98,308.91 1335.75,337.121 1360.67,373.132 1385.58,416.033 1410.5,464.908 1435.42,518.719 1490.52,649.439 1545.63,785.284 \n",
       "  1571.84,847.764 1598.05,906.963 1624.27,961.639 1650.48,1010.71 1677.74,1054.84 1704.99,1091.25 1732.25,1119.53 1759.51,1139.62 1782.45,1150.38 1805.4,1155.91 \n",
       "  1828.34,1156.77 1851.28,1153.67 1907.31,1135.23 1963.33,1114.18 1989.67,1108.14 2016,1106.71 2042.33,1111.03 2068.66,1121.65 2110.85,1150.78 2153.04,1187.75 \n",
       "  2174.13,1204.11 2195.22,1214.67 2205.77,1216.4 2216.32,1214.87 2226.86,1209.31 2237.41,1198.89 2243.9,1189.64 2250.39,1177.96 2256.89,1163.57 \n",
       "  \"/>\n",
       "<polygon clip-path=\"url(#clip5901)\" points=\"\n",
       "1958.43,554.124 2249.26,554.124 2249.26,130.764 1958.43,130.764 \n",
       "  \" fill=\"#ffffff\" fill-rule=\"evenodd\" fill-opacity=\"1\"/>\n",
       "<polyline clip-path=\"url(#clip5901)\" style=\"stroke:#000000; stroke-width:4; stroke-opacity:1; fill:none\" points=\"\n",
       "  1958.43,554.124 2249.26,554.124 2249.26,130.764 1958.43,130.764 1958.43,554.124 \n",
       "  \"/>\n",
       "<polyline clip-path=\"url(#clip5901)\" style=\"stroke:#009af9; stroke-width:4; stroke-opacity:1; fill:none\" points=\"\n",
       "  1982.43,191.244 2126.43,191.244 \n",
       "  \"/>\n",
       "<g clip-path=\"url(#clip5901)\">\n",
       "<text style=\"fill:#000000; fill-opacity:1; font-family:Arial,Helvetica Neue,Helvetica,sans-serif; font-size:48px; text-anchor:start;\" transform=\"rotate(0, 2150.43, 208.744)\" x=\"2150.43\" y=\"208.744\">y1</text>\n",
       "</g>\n",
       "<polyline clip-path=\"url(#clip5901)\" style=\"stroke:#e26f46; stroke-width:4; stroke-opacity:1; fill:none\" points=\"\n",
       "  1982.43,251.724 2126.43,251.724 \n",
       "  \"/>\n",
       "<g clip-path=\"url(#clip5901)\">\n",
       "<text style=\"fill:#000000; fill-opacity:1; font-family:Arial,Helvetica Neue,Helvetica,sans-serif; font-size:48px; text-anchor:start;\" transform=\"rotate(0, 2150.43, 269.224)\" x=\"2150.43\" y=\"269.224\">y2</text>\n",
       "</g>\n",
       "<polyline clip-path=\"url(#clip5901)\" style=\"stroke:#3da44d; stroke-width:4; stroke-opacity:1; fill:none\" points=\"\n",
       "  1982.43,312.204 2126.43,312.204 \n",
       "  \"/>\n",
       "<g clip-path=\"url(#clip5901)\">\n",
       "<text style=\"fill:#000000; fill-opacity:1; font-family:Arial,Helvetica Neue,Helvetica,sans-serif; font-size:48px; text-anchor:start;\" transform=\"rotate(0, 2150.43, 329.704)\" x=\"2150.43\" y=\"329.704\">y3</text>\n",
       "</g>\n",
       "<polyline clip-path=\"url(#clip5901)\" style=\"stroke:#c271d2; stroke-width:4; stroke-opacity:1; fill:none\" points=\"\n",
       "  1982.43,372.684 2126.43,372.684 \n",
       "  \"/>\n",
       "<g clip-path=\"url(#clip5901)\">\n",
       "<text style=\"fill:#000000; fill-opacity:1; font-family:Arial,Helvetica Neue,Helvetica,sans-serif; font-size:48px; text-anchor:start;\" transform=\"rotate(0, 2150.43, 390.184)\" x=\"2150.43\" y=\"390.184\">y4</text>\n",
       "</g>\n",
       "<polyline clip-path=\"url(#clip5901)\" style=\"stroke:#ac8d18; stroke-width:4; stroke-opacity:1; fill:none\" points=\"\n",
       "  1982.43,433.164 2126.43,433.164 \n",
       "  \"/>\n",
       "<g clip-path=\"url(#clip5901)\">\n",
       "<text style=\"fill:#000000; fill-opacity:1; font-family:Arial,Helvetica Neue,Helvetica,sans-serif; font-size:48px; text-anchor:start;\" transform=\"rotate(0, 2150.43, 450.664)\" x=\"2150.43\" y=\"450.664\">y5</text>\n",
       "</g>\n",
       "<polyline clip-path=\"url(#clip5901)\" style=\"stroke:#00a9ad; stroke-width:4; stroke-opacity:1; fill:none\" points=\"\n",
       "  1982.43,493.644 2126.43,493.644 \n",
       "  \"/>\n",
       "<g clip-path=\"url(#clip5901)\">\n",
       "<text style=\"fill:#000000; fill-opacity:1; font-family:Arial,Helvetica Neue,Helvetica,sans-serif; font-size:48px; text-anchor:start;\" transform=\"rotate(0, 2150.43, 511.144)\" x=\"2150.43\" y=\"511.144\">y6</text>\n",
       "</g>\n",
       "</svg>\n"
      ]
     },
     "execution_count": 38,
     "metadata": {},
     "output_type": "execute_result"
    }
   ],
   "source": [
    "plot([f, wa, wb, wc, wd, we], -1, 1)"
   ]
  }
 ],
 "metadata": {
  "@webio": {
   "lastCommId": "847ff7cbb4054b8382323700f451ce00",
   "lastKernelId": "6801c938-8b8a-465a-95d4-7d89e09c55e1"
  },
  "kernelspec": {
   "display_name": "Julia 1.0.1",
   "language": "julia",
   "name": "julia-1.0"
  },
  "language_info": {
   "file_extension": ".jl",
   "mimetype": "application/julia",
   "name": "julia",
   "version": "1.0.1"
  }
 },
 "nbformat": 4,
 "nbformat_minor": 2
}
