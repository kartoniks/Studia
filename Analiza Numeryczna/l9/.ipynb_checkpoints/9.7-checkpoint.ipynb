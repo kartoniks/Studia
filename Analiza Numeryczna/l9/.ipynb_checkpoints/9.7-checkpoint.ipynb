{
 "cells": [
  {
   "cell_type": "markdown",
   "metadata": {},
   "source": [
    "Funkcja Rungego"
   ]
  },
  {
   "cell_type": "code",
   "execution_count": 1,
   "metadata": {},
   "outputs": [
    {
     "data": {
      "text/plain": [
       "f (generic function with 1 method)"
      ]
     },
     "execution_count": 1,
     "metadata": {},
     "output_type": "execute_result"
    }
   ],
   "source": [
    "function f(x)\n",
    "    return Float64(Float64(1)/(Float64(25)*(x^Float64(2)) + Float64(1)))\n",
    "end"
   ]
  },
  {
   "cell_type": "markdown",
   "metadata": {},
   "source": [
    "Funkcja max ( |f(xk) - w(xk)| ) na przedziale [-1,1] w N równoodległych punktach"
   ]
  },
  {
   "cell_type": "code",
   "execution_count": 2,
   "metadata": {},
   "outputs": [],
   "source": [
    "N = 1000\n",
    "x_k = zeros(Float64, N+1)\n",
    "for i = 0:N\n",
    "    x_k[i+1] = -1 + (2*i)/N\n",
    "end\n"
   ]
  },
  {
   "cell_type": "code",
   "execution_count": 3,
   "metadata": {},
   "outputs": [
    {
     "data": {
      "text/plain": [
       "max (generic function with 1 method)"
      ]
     },
     "execution_count": 3,
     "metadata": {},
     "output_type": "execute_result"
    }
   ],
   "source": [
    "function max(f,w)\n",
    "    e_k = zeros(Float64, N+1)\n",
    "    for i = 1:(N+1)\n",
    "        e_k[i] = abs(f(x_k[i]) - w(x_k[i]))\n",
    "    end\n",
    "    return maximum(e_k)\n",
    "end"
   ]
  },
  {
   "cell_type": "markdown",
   "metadata": {},
   "source": [
    "Wielomian interpolacyjny Newtona"
   ]
  },
  {
   "cell_type": "code",
   "execution_count": 4,
   "metadata": {},
   "outputs": [
    {
     "data": {
      "text/plain": [
       "newton_coeffs (generic function with 1 method)"
      ]
     },
     "execution_count": 4,
     "metadata": {},
     "output_type": "execute_result"
    }
   ],
   "source": [
    "function newton_coeffs(nodes, f_vals)\n",
    "    coeffs = Float64[]\n",
    "    len = length(nodes)\n",
    "    f_values = copy(f_vals)\n",
    "\n",
    "    push!(coeffs, f_values[1])\n",
    "    \n",
    "    for j = 1:len-1\n",
    "        for i = 1:len-j\n",
    "            f_values[i] = ((f_values[i] - f_values[i + 1])\n",
    "                             / (nodes[i] - nodes[i + j]))\n",
    "        end\n",
    "        push!(coeffs, f_values[1])\n",
    "    end\n",
    "    coeffs\n",
    "end"
   ]
  },
  {
   "cell_type": "code",
   "execution_count": 5,
   "metadata": {},
   "outputs": [
    {
     "data": {
      "text/plain": [
       "Newton (generic function with 1 method)"
      ]
     },
     "execution_count": 5,
     "metadata": {},
     "output_type": "execute_result"
    }
   ],
   "source": [
    "function Newton(x, xnodes, f_values)\n",
    "    listofa = newton_coeffs(xnodes, f_values)\n",
    "    sum = 0\n",
    "    for i = 1:length(listofa)\n",
    "        product = 1\n",
    "        for j = 1:i-1\n",
    "            product *= (x - xnodes[j])\n",
    "        end\n",
    "        sum += product * listofa[i]\n",
    "    end\n",
    "    return sum\n",
    "end"
   ]
  },
  {
   "cell_type": "markdown",
   "metadata": {},
   "source": [
    "Przykład użycia Newtona (podajemy wiejsce, w którym chcemy wartość, punkty w których interpolujemy (jako listę) oraz wartości funkcji w tych punktach)"
   ]
  },
  {
   "cell_type": "code",
   "execution_count": 6,
   "metadata": {},
   "outputs": [
    {
     "data": {
      "text/plain": [
       "1.0"
      ]
     },
     "execution_count": 6,
     "metadata": {},
     "output_type": "execute_result"
    }
   ],
   "source": [
    "Newton(0, [-2,-1, 0, 1, 2, 3], [31, 5, 1, 1, 11, 61])"
   ]
  },
  {
   "cell_type": "markdown",
   "metadata": {},
   "source": [
    "a) Wielomian interpolujący funkcję f w węzłach równoodległych"
   ]
  },
  {
   "cell_type": "markdown",
   "metadata": {},
   "source": [
    "Wielomian ma być stopnia 9, więc potrzebujemy 10 równoodległych punktów na przedziale [-1,1]"
   ]
  },
  {
   "cell_type": "code",
   "execution_count": 7,
   "metadata": {},
   "outputs": [],
   "source": [
    "x_k2 = zeros(Float64,10)\n",
    "for i = 1:10\n",
    "    x_k2[i] = -1 + (i-1)*Float64((2/9))\n",
    "end\n",
    "fx_k2 = zeros(Float64,10)\n",
    "for i = 1:10\n",
    "    fx_k2[i] = f(x_k2[i])\n",
    "end"
   ]
  },
  {
   "cell_type": "code",
   "execution_count": 8,
   "metadata": {},
   "outputs": [
    {
     "data": {
      "text/plain": [
       "wa (generic function with 1 method)"
      ]
     },
     "execution_count": 8,
     "metadata": {},
     "output_type": "execute_result"
    }
   ],
   "source": [
    "function wa(x)\n",
    "    Newton(x,x_k2,fx_k2)\n",
    "end"
   ]
  },
  {
   "cell_type": "markdown",
   "metadata": {},
   "source": [
    "10 zer T10"
   ]
  },
  {
   "cell_type": "code",
   "execution_count": 9,
   "metadata": {},
   "outputs": [],
   "source": [
    "x_k3 = zeros(Float64,10)\n",
    "for i = 1:10\n",
    "    x_k3[i] = Float64(cos((2*i-1) * pi / 20 ))\n",
    "end\n",
    "fx_k3 = zeros(Float64,10)\n",
    "for i = 1:10\n",
    "    fx_k3[i] = f(x_k3[i])\n",
    "end"
   ]
  },
  {
   "cell_type": "code",
   "execution_count": 10,
   "metadata": {},
   "outputs": [
    {
     "data": {
      "text/plain": [
       "wb (generic function with 1 method)"
      ]
     },
     "execution_count": 10,
     "metadata": {},
     "output_type": "execute_result"
    }
   ],
   "source": [
    "function wb(x)\n",
    "    Newton(x,x_k3,fx_k3)\n",
    "end"
   ]
  },
  {
   "cell_type": "markdown",
   "metadata": {},
   "source": [
    "10 ekstremów T9"
   ]
  },
  {
   "cell_type": "code",
   "execution_count": 11,
   "metadata": {},
   "outputs": [],
   "source": [
    "x_k4 = zeros(Float64,10)\n",
    "for i = 1:10\n",
    "    x_k4[i] = Float64(cos( (i-1)*pi / 9 ))\n",
    "end\n",
    "fx_k4 = zeros(Float64,10)\n",
    "for i = 1:10\n",
    "    fx_k4[i] = f(x_k4[i])\n",
    "end"
   ]
  },
  {
   "cell_type": "code",
   "execution_count": 12,
   "metadata": {},
   "outputs": [
    {
     "data": {
      "text/plain": [
       "wc (generic function with 1 method)"
      ]
     },
     "execution_count": 12,
     "metadata": {},
     "output_type": "execute_result"
    }
   ],
   "source": [
    "function wc(x)\n",
    "    Newton(x,x_k4,fx_k4)\n",
    "end"
   ]
  },
  {
   "cell_type": "markdown",
   "metadata": {},
   "source": [
    "Algorytm Clenshawa dla wielomianów czebyszewa"
   ]
  },
  {
   "cell_type": "code",
   "execution_count": 13,
   "metadata": {},
   "outputs": [
    {
     "data": {
      "text/plain": [
       "clenshaw (generic function with 1 method)"
      ]
     },
     "execution_count": 13,
     "metadata": {},
     "output_type": "execute_result"
    }
   ],
   "source": [
    "function clenshaw(n,c,x)\n",
    "    Bk_1 = 0\n",
    "    Bk_2 = 0\n",
    "    for i = n:(-1):1\n",
    "        Bk = Float64(2) * x * Bk_1 - Bk_2 + c[i+1]\n",
    "        Bk_2 = Bk_1\n",
    "        Bk_1 = Bk\n",
    "    end\n",
    "    return x * Bk_1 - Bk_2 + c[1]/Float64(2)\n",
    "end"
   ]
  },
  {
   "cell_type": "code",
   "execution_count": 14,
   "metadata": {},
   "outputs": [],
   "source": [
    "using QuadGK"
   ]
  },
  {
   "cell_type": "code",
   "execution_count": 15,
   "metadata": {},
   "outputs": [
    {
     "data": {
      "text/plain": [
       "p (generic function with 1 method)"
      ]
     },
     "execution_count": 15,
     "metadata": {},
     "output_type": "execute_result"
    }
   ],
   "source": [
    "function p(x)\n",
    "    return Float64((Float64(1) - Float64(x^2)) ^ (0.5))\n",
    "end"
   ]
  },
  {
   "cell_type": "code",
   "execution_count": 16,
   "metadata": {},
   "outputs": [
    {
     "data": {
      "text/plain": [
       "T (generic function with 1 method)"
      ]
     },
     "execution_count": 16,
     "metadata": {},
     "output_type": "execute_result"
    }
   ],
   "source": [
    "function T(k,x)\n",
    "    return cos(k * acos(x))\n",
    "end"
   ]
  },
  {
   "cell_type": "markdown",
   "metadata": {},
   "source": [
    "Definicja 10-ciu pierwszych wielomianów Legandre`a"
   ]
  },
  {
   "cell_type": "code",
   "execution_count": 17,
   "metadata": {},
   "outputs": [],
   "source": [
    "function p0(x)\n",
    "    return 1\n",
    "end\n",
    "function p1(x)\n",
    "    return x\n",
    "end\n",
    "P_h = [p0,p1]\n",
    "for i = 2:10\n",
    "    push!(P_h, (x-> ((2*i-1)/i)*x*(P_h[i](x)) - ((i-1)/i) * (P_h[i-1](x)) ))\n",
    "end"
   ]
  },
  {
   "cell_type": "code",
   "execution_count": 18,
   "metadata": {},
   "outputs": [
    {
     "data": {
      "text/plain": [
       "P (generic function with 1 method)"
      ]
     },
     "execution_count": 18,
     "metadata": {},
     "output_type": "execute_result"
    }
   ],
   "source": [
    "function P(n,x)\n",
    "    P_h[n+1](x)\n",
    "end"
   ]
  },
  {
   "cell_type": "markdown",
   "metadata": {},
   "source": [
    "suma d0 \\* P0(x) + d1 \\* P1(x) + ... + dn \\* Pn(x) - można Clenshowem w wersji dla Legandre`a, ale coś nie wyszło"
   ]
  },
  {
   "cell_type": "code",
   "execution_count": 19,
   "metadata": {},
   "outputs": [
    {
     "data": {
      "text/plain": [
       "sum_of_legandre (generic function with 1 method)"
      ]
     },
     "execution_count": 19,
     "metadata": {},
     "output_type": "execute_result"
    }
   ],
   "source": [
    "function sum_of_legandre(n,d,x)\n",
    "    s = Float64(0)\n",
    "    for i = 0:n\n",
    "        s += d[i+1] * P(i,x)\n",
    "    end\n",
    "    return s\n",
    "end       "
   ]
  },
  {
   "cell_type": "markdown",
   "metadata": {},
   "source": [
    "obliczanie d_k = <f,Pk> (bardzo długo się liczą)"
   ]
  },
  {
   "cell_type": "code",
   "execution_count": 32,
   "metadata": {},
   "outputs": [],
   "source": [
    "d_k = zeros(Float64,10)\n",
    "for i = 0:9\n",
    "    d_k[i+1] = quadgk(x -> f(x) * P(i,x), -1, 1, maxevals = 10)[1]\n",
    "end"
   ]
  },
  {
   "cell_type": "markdown",
   "metadata": {},
   "source": [
    "obliczanie d_k2 = <f,Pk> / <Pk,Pk>, <Pk,Pk> = 2/(2k+1)"
   ]
  },
  {
   "cell_type": "code",
   "execution_count": 21,
   "metadata": {},
   "outputs": [],
   "source": [
    "d_k2 = zeros(Float64,10)\n",
    "for i = 0:9\n",
    "    d_k2[i+1] = d_k[i+1] * ((2*i + 1) / 2)\n",
    "end"
   ]
  },
  {
   "cell_type": "markdown",
   "metadata": {},
   "source": [
    "Wielomian optymalny w d) to suma d0 \\* P0(x) + d1 \\* P1(x) + ... + dn \\* Pn(x) dla d_k = <f,Pk> / <Pk,Pk>"
   ]
  },
  {
   "cell_type": "code",
   "execution_count": 22,
   "metadata": {},
   "outputs": [
    {
     "data": {
      "text/plain": [
       "wd (generic function with 1 method)"
      ]
     },
     "execution_count": 22,
     "metadata": {},
     "output_type": "execute_result"
    }
   ],
   "source": [
    "function wd(x)\n",
    "    return Float64(sum_of_legandre(9,d_k2,x) )\n",
    "end"
   ]
  },
  {
   "cell_type": "markdown",
   "metadata": {},
   "source": [
    "Podpunkt e to wielomian w(x) = pi/2 * (clenshaw n=9, ck = <f,Tk(x)>, x=x)"
   ]
  },
  {
   "cell_type": "code",
   "execution_count": 23,
   "metadata": {},
   "outputs": [],
   "source": [
    "c_k = zeros(Float64,10)\n",
    "for i = 0:9\n",
    "    c_k[i+1] = quadgk(x -> p(x) * f(x) * T(i,x), -1, 1)[1]\n",
    "end"
   ]
  },
  {
   "cell_type": "code",
   "execution_count": 24,
   "metadata": {},
   "outputs": [
    {
     "data": {
      "text/plain": [
       "we (generic function with 1 method)"
      ]
     },
     "execution_count": 24,
     "metadata": {},
     "output_type": "execute_result"
    }
   ],
   "source": [
    "function we(x)\n",
    "    return Float64( (2 / pi) * clenshaw(9,c_k,x))\n",
    "end"
   ]
  },
  {
   "cell_type": "code",
   "execution_count": 25,
   "metadata": {},
   "outputs": [
    {
     "data": {
      "text/plain": [
       "0.3002811297925676"
      ]
     },
     "execution_count": 25,
     "metadata": {},
     "output_type": "execute_result"
    }
   ],
   "source": [
    "max(f,wa)"
   ]
  },
  {
   "cell_type": "code",
   "execution_count": 26,
   "metadata": {},
   "outputs": [
    {
     "data": {
      "text/plain": [
       "0.2691783353450813"
      ]
     },
     "execution_count": 26,
     "metadata": {},
     "output_type": "execute_result"
    }
   ],
   "source": [
    "max(f,wb)"
   ]
  },
  {
   "cell_type": "code",
   "execution_count": 27,
   "metadata": {},
   "outputs": [
    {
     "data": {
      "text/plain": [
       "0.3190952547347733"
      ]
     },
     "execution_count": 27,
     "metadata": {},
     "output_type": "execute_result"
    }
   ],
   "source": [
    "max(f,wc)"
   ]
  },
  {
   "cell_type": "code",
   "execution_count": 28,
   "metadata": {},
   "outputs": [
    {
     "data": {
      "text/plain": [
       "0.14958350156008882"
      ]
     },
     "execution_count": 28,
     "metadata": {},
     "output_type": "execute_result"
    }
   ],
   "source": [
    "max(f,wd)"
   ]
  },
  {
   "cell_type": "code",
   "execution_count": 29,
   "metadata": {},
   "outputs": [
    {
     "data": {
      "text/plain": [
       "0.170571513367629"
      ]
     },
     "execution_count": 29,
     "metadata": {},
     "output_type": "execute_result"
    }
   ],
   "source": [
    "max(f,we)"
   ]
  },
  {
   "cell_type": "code",
   "execution_count": 30,
   "metadata": {},
   "outputs": [
    {
     "data": {
      "text/html": [
       "    <script id=\"webio-setup-13569928064167090197\">\n",
       "    // Immediately-invoked-function-expression to avoid global variables.\n",
       "    (function() {\n",
       "        var warning_div = document.getElementById(\"webio-warning-16852316841225535928\");\n",
       "        var hide = function () {\n",
       "            var script = document.getElementById(\"webio-setup-13569928064167090197\");\n",
       "            var parent = script && script.parentElement;\n",
       "            var grandparent = parent && parent.parentElement;\n",
       "            if (grandparent) {\n",
       "                grandparent.style.display = \"none\";\n",
       "            }\n",
       "            warning_div.style.display = \"none\";\n",
       "        };\n",
       "        if (window.require && require.defined) {\n",
       "            // Jupyter notebook.\n",
       "            if (require.defined(\"nbextensions/webio/main\")\n",
       "                    || require.defined(\"/assetserver/2fe83f9c2694b8e3f11f555fed5a50d3c6cbe9fd-dist/main.js\")) {\n",
       "                // Extension already loaded.\n",
       "                hide();\n",
       "                return;\n",
       "            }\n",
       "            console.warn(\"Loading WebIO Jupyter extension on an ad-hoc basis. Consider enabling the WebIO nbextension for a stabler experience (this should happen automatically when building WebIO).\");\n",
       "            require([\"/assetserver/2fe83f9c2694b8e3f11f555fed5a50d3c6cbe9fd-dist/main.js\"], function (webIOModule) {\n",
       "                webIOModule.load_ipython_extension();\n",
       "            });\n",
       "            warning_div.innerHTML = \"<strong>Loading WebIO Jupyter extension on an ad-hoc basis. Consider enabling the WebIO nbextension for a stabler experience (this should happen automatically when building WebIO).</strong>\";\n",
       "        } else if (window.location.pathname.includes(\"/lab\")) {\n",
       "            // Guessing JupyterLab\n",
       "            warning_div.innerHTML = \"WebIO does not support JupyterLab yet.\";\n",
       "        }\n",
       "    })();\n",
       "    </script>\n",
       "    <div\n",
       "        id=\"webio-warning-16852316841225535928\"\n",
       "        class=\"output_text output_stderr\"\n",
       "        style=\"padding: 1em; font-weight: bold;\"\n",
       "    >\n",
       "        Unable to load WebIO. Please make sure WebIO works for your Jupyter client.\n",
       "        <!-- TODO: link to installation docs. -->\n",
       "    </div>\n"
      ],
      "text/plain": [
       "HTML{String}(\"    <script id=\\\"webio-setup-13569928064167090197\\\">\\n    // Immediately-invoked-function-expression to avoid global variables.\\n    (function() {\\n        var warning_div = document.getElementById(\\\"webio-warning-16852316841225535928\\\");\\n        var hide = function () {\\n            var script = document.getElementById(\\\"webio-setup-13569928064167090197\\\");\\n            var parent = script && script.parentElement;\\n            var grandparent = parent && parent.parentElement;\\n            if (grandparent) {\\n                grandparent.style.display = \\\"none\\\";\\n            }\\n            warning_div.style.display = \\\"none\\\";\\n        };\\n        if (window.require && require.defined) {\\n            // Jupyter notebook.\\n            if (require.defined(\\\"nbextensions/webio/main\\\")\\n                    || require.defined(\\\"/assetserver/2fe83f9c2694b8e3f11f555fed5a50d3c6cbe9fd-dist/main.js\\\")) {\\n                // Extension already loaded.\\n                hide();\\n                return;\\n            }\\n            console.warn(\\\"Loading WebIO Jupyter extension on an ad-hoc basis. Consider enabling the WebIO nbextension for a stabler experience (this should happen automatically when building WebIO).\\\");\\n            require([\\\"/assetserver/2fe83f9c2694b8e3f11f555fed5a50d3c6cbe9fd-dist/main.js\\\"], function (webIOModule) {\\n                webIOModule.load_ipython_extension();\\n            });\\n            warning_div.innerHTML = \\\"<strong>Loading WebIO Jupyter extension on an ad-hoc basis. Consider enabling the WebIO nbextension for a stabler experience (this should happen automatically when building WebIO).</strong>\\\";\\n        } else if (window.location.pathname.includes(\\\"/lab\\\")) {\\n            // Guessing JupyterLab\\n            warning_div.innerHTML = \\\"WebIO does not support JupyterLab yet.\\\";\\n        }\\n    })();\\n    </script>\\n    <div\\n        id=\\\"webio-warning-16852316841225535928\\\"\\n        class=\\\"output_text output_stderr\\\"\\n        style=\\\"padding: 1em; font-weight: bold;\\\"\\n    >\\n        Unable to load WebIO. Please make sure WebIO works for your Jupyter client.\\n        <!-- TODO: link to installation docs. -->\\n    </div>\\n\")"
      ]
     },
     "metadata": {},
     "output_type": "display_data"
    }
   ],
   "source": [
    "using Plotly;\n"
   ]
  },
  {
   "cell_type": "code",
   "execution_count": 31,
   "metadata": {},
   "outputs": [
    {
     "data": {
      "application/vnd.plotly.v1+json": {
       "data": [
        {
         "name": "f",
         "type": "scatter",
         "x": [
          -1,
          -0.9591836734693877,
          -0.9183673469387755,
          -0.8775510204081632,
          -0.8367346938775511,
          -0.7959183673469388,
          -0.7551020408163265,
          -0.7142857142857143,
          -0.673469387755102,
          -0.6326530612244898,
          -0.5918367346938775,
          -0.5510204081632653,
          -0.5102040816326531,
          -0.46938775510204084,
          -0.42857142857142855,
          -0.3877551020408163,
          -0.3469387755102041,
          -0.30612244897959184,
          -0.2653061224489796,
          -0.22448979591836735,
          -0.1836734693877551,
          -0.14285714285714285,
          -0.10204081632653061,
          -0.061224489795918366,
          -0.02040816326530612,
          0.02040816326530612,
          0.061224489795918366,
          0.10204081632653061,
          0.14285714285714285,
          0.1836734693877551,
          0.22448979591836735,
          0.2653061224489796,
          0.30612244897959184,
          0.3469387755102041,
          0.3877551020408163,
          0.42857142857142855,
          0.46938775510204084,
          0.5102040816326531,
          0.5510204081632653,
          0.5918367346938775,
          0.6326530612244898,
          0.673469387755102,
          0.7142857142857143,
          0.7551020408163265,
          0.7959183673469388,
          0.8367346938775511,
          0.8775510204081632,
          0.9183673469387755,
          0.9591836734693877,
          1
         ],
         "y": [
          0.038461538461538464,
          0.041665220560163814,
          0.045279674122128764,
          0.04937687656809115,
          0.054044928645387826,
          0.05939247019245042,
          0.06555452410855678,
          0.07270029673590504,
          0.08104367785053669,
          0.09085748883675168,
          0.10249295654401092,
          0.11640647726170854,
          0.13319649395317873,
          0.15365416613336746,
          0.17883211678832117,
          0.21013478032557326,
          0.24942863079160604,
          0.2991527535509594,
          0.3623603984304256,
          0.4424990785108736,
          0.5424762765476728,
          0.6621621621621622,
          0.7934567085261072,
          0.9143183549124143,
          0.9896949711459193,
          0.9896949711459193,
          0.9143183549124143,
          0.7934567085261072,
          0.6621621621621622,
          0.5424762765476728,
          0.4424990785108736,
          0.3623603984304256,
          0.2991527535509594,
          0.24942863079160604,
          0.21013478032557326,
          0.17883211678832117,
          0.15365416613336746,
          0.13319649395317873,
          0.11640647726170854,
          0.10249295654401092,
          0.09085748883675168,
          0.08104367785053669,
          0.07270029673590504,
          0.06555452410855678,
          0.05939247019245042,
          0.054044928645387826,
          0.04937687656809115,
          0.045279674122128764,
          0.041665220560163814,
          0.038461538461538464
         ]
        },
        {
         "name": "wa",
         "type": "scatter",
         "x": [
          -1,
          -0.9591836734693877,
          -0.9183673469387755,
          -0.8775510204081632,
          -0.8367346938775511,
          -0.7959183673469388,
          -0.7551020408163265,
          -0.7142857142857143,
          -0.673469387755102,
          -0.6326530612244898,
          -0.5918367346938775,
          -0.5510204081632653,
          -0.5102040816326531,
          -0.46938775510204084,
          -0.42857142857142855,
          -0.3877551020408163,
          -0.3469387755102041,
          -0.30612244897959184,
          -0.2653061224489796,
          -0.22448979591836735,
          -0.1836734693877551,
          -0.14285714285714285,
          -0.10204081632653061,
          -0.061224489795918366,
          -0.02040816326530612,
          0.02040816326530612,
          0.061224489795918366,
          0.10204081632653061,
          0.14285714285714285,
          0.1836734693877551,
          0.22448979591836735,
          0.2653061224489796,
          0.30612244897959184,
          0.3469387755102041,
          0.3877551020408163,
          0.42857142857142855,
          0.46938775510204084,
          0.5102040816326531,
          0.5510204081632653,
          0.5918367346938775,
          0.6326530612244898,
          0.673469387755102,
          0.7142857142857143,
          0.7551020408163265,
          0.7959183673469388,
          0.8367346938775511,
          0.8775510204081632,
          0.9183673469387755,
          0.9591836734693877,
          1
         ],
         "y": [
          0.038461538461538464,
          -0.21312244472104908,
          -0.2522108412465624,
          -0.18417860515591078,
          -0.07822176692558425,
          0.023981908734834707,
          0.10101676558073683,
          0.14573655238910135,
          0.1604008432431525,
          0.15281296792107704,
          0.13333855527134925,
          0.11269050896373187,
          0.10037295151154965,
          0.10368338896735484,
          0.12717906520063238,
          0.1725201911727142,
          0.23860945113060145,
          0.3219539041479135,
          0.4171821159477144,
          0.5176560724484859,
          0.6161241429810472,
          0.7053680776307429,
          0.7788037396657488,
          0.8310019905188674,
          0.8581028612967132,
          0.8581028612967134,
          0.8310019905188673,
          0.7788037396657486,
          0.7053680776307427,
          0.6161241429810476,
          0.517656072448485,
          0.41718211594771437,
          0.32195390414791325,
          0.23860945113060117,
          0.17252019117271433,
          0.12717906520063268,
          0.1036833889673554,
          0.10037295151155373,
          0.11269050896373169,
          0.13333855527135693,
          0.15281296792107754,
          0.1604008432431532,
          0.14573655238910696,
          0.10101676558074087,
          0.023981908734864478,
          -0.07822176692556833,
          -0.18417860515587936,
          -0.25221084124654225,
          -0.21312244472104813,
          0.038461538461565095
         ]
        },
        {
         "name": "wb",
         "type": "scatter",
         "x": [
          -1,
          -0.9591836734693877,
          -0.9183673469387755,
          -0.8775510204081632,
          -0.8367346938775511,
          -0.7959183673469388,
          -0.7551020408163265,
          -0.7142857142857143,
          -0.673469387755102,
          -0.6326530612244898,
          -0.5918367346938775,
          -0.5510204081632653,
          -0.5102040816326531,
          -0.46938775510204084,
          -0.42857142857142855,
          -0.3877551020408163,
          -0.3469387755102041,
          -0.30612244897959184,
          -0.2653061224489796,
          -0.22448979591836735,
          -0.1836734693877551,
          -0.14285714285714285,
          -0.10204081632653061,
          -0.061224489795918366,
          -0.02040816326530612,
          0.02040816326530612,
          0.061224489795918366,
          0.10204081632653061,
          0.14285714285714285,
          0.1836734693877551,
          0.22448979591836735,
          0.2653061224489796,
          0.30612244897959184,
          0.3469387755102041,
          0.3877551020408163,
          0.42857142857142855,
          0.46938775510204084,
          0.5102040816326531,
          0.5510204081632653,
          0.5918367346938775,
          0.6326530612244898,
          0.673469387755102,
          0.7142857142857143,
          0.7551020408163265,
          0.7959183673469388,
          0.8367346938775511,
          0.8775510204081632,
          0.9183673469387755,
          0.9591836734693877,
          1
         ],
         "y": [
          0.04881455135940813,
          0.03087016953511016,
          0.03796402744020191,
          0.053155467069718125,
          0.06689349887912416,
          0.07499588118084,
          0.07697775006550274,
          0.07469384303454367,
          0.07126007175958493,
          0.07022191161354008,
          0.07493878784752195,
          0.08815535051681395,
          0.11173224248838466,
          0.14651067709171436,
          0.1922868542038349,
          0.24787395578875895,
          0.31123117414068474,
          0.3796409383095394,
          0.44991721641671556,
          0.518629483798,
          0.5823286591399757,
          0.6377630230053335,
          0.6820738453718176,
          0.7129621610386845,
          0.7288198439838133,
          0.7288198439838133,
          0.7129621610386844,
          0.6820738453718174,
          0.6377630230053329,
          0.582328659139975,
          0.5186294837979996,
          0.4499172164167146,
          0.3796409383095394,
          0.3112311741406847,
          0.24787395578875918,
          0.19228685420383398,
          0.14651067709171411,
          0.11173224248838443,
          0.0881553505168133,
          0.07493878784752189,
          0.07022191161353943,
          0.07126007175958621,
          0.0746938430345452,
          0.07697775006550006,
          0.07499588118083697,
          0.06689349887912606,
          0.053155467069716474,
          0.03796402744019809,
          0.030870169535101594,
          0.048814551359426125
         ]
        },
        {
         "name": "wc",
         "type": "scatter",
         "x": [
          -1,
          -0.9591836734693877,
          -0.9183673469387755,
          -0.8775510204081632,
          -0.8367346938775511,
          -0.7959183673469388,
          -0.7551020408163265,
          -0.7142857142857143,
          -0.673469387755102,
          -0.6326530612244898,
          -0.5918367346938775,
          -0.5510204081632653,
          -0.5102040816326531,
          -0.46938775510204084,
          -0.42857142857142855,
          -0.3877551020408163,
          -0.3469387755102041,
          -0.30612244897959184,
          -0.2653061224489796,
          -0.22448979591836735,
          -0.1836734693877551,
          -0.14285714285714285,
          -0.10204081632653061,
          -0.061224489795918366,
          -0.02040816326530612,
          0.02040816326530612,
          0.061224489795918366,
          0.10204081632653061,
          0.14285714285714285,
          0.1836734693877551,
          0.22448979591836735,
          0.2653061224489796,
          0.30612244897959184,
          0.3469387755102041,
          0.3877551020408163,
          0.42857142857142855,
          0.46938775510204084,
          0.5102040816326531,
          0.5510204081632653,
          0.5918367346938775,
          0.6326530612244898,
          0.673469387755102,
          0.7142857142857143,
          0.7551020408163265,
          0.7959183673469388,
          0.8367346938775511,
          0.8775510204081632,
          0.9183673469387755,
          0.9591836734693877,
          1
         ],
         "y": [
          0.03846153846154123,
          0.039663885874874044,
          0.048121483648844075,
          0.05676276826652634,
          0.06231835272493985,
          0.06418301463689452,
          0.06348215069200468,
          0.062321385121677765,
          0.06319903468692299,
          0.0685621475819003,
          0.08048784852020151,
          0.10047273714483725,
          0.12931410177704603,
          0.1670677253930695,
          0.2130680755920843,
          0.26599768519252354,
          0.3239935449681517,
          0.3847793449091991,
          0.4458134152680371,
          0.5044432335228466,
          0.5580583782668327,
          0.6042348259045823,
          0.6408645009112198,
          0.6662650052840785,
          0.6792654676906498,
          0.6792654676906497,
          0.6662650052840786,
          0.6408645009112197,
          0.6042348259045818,
          0.5580583782668322,
          0.5044432335228459,
          0.4458134152680364,
          0.3847793449091985,
          0.32399354496815125,
          0.2659976851925232,
          0.21306807559208252,
          0.1670677253930689,
          0.1293141017770445,
          0.10047273714483627,
          0.08048784852020055,
          0.06856214758189728,
          0.06319903468691893,
          0.062321385121676655,
          0.06348215069200357,
          0.0641830146368917,
          0.062318352724937014,
          0.056762768266524474,
          0.048121483648841626,
          0.03966388587486725,
          0.038461538461538464
         ]
        },
        {
         "name": "wd",
         "type": "scatter",
         "x": [
          -1,
          -0.9591836734693877,
          -0.9183673469387755,
          -0.8775510204081632,
          -0.8367346938775511,
          -0.7959183673469388,
          -0.7551020408163265,
          -0.7142857142857143,
          -0.673469387755102,
          -0.6326530612244898,
          -0.5918367346938775,
          -0.5510204081632653,
          -0.5102040816326531,
          -0.46938775510204084,
          -0.42857142857142855,
          -0.3877551020408163,
          -0.3469387755102041,
          -0.30612244897959184,
          -0.2653061224489796,
          -0.22448979591836735,
          -0.1836734693877551,
          -0.14285714285714285,
          -0.10204081632653061,
          -0.061224489795918366,
          -0.02040816326530612,
          0.02040816326530612,
          0.061224489795918366,
          0.10204081632653061,
          0.14285714285714285,
          0.1836734693877551,
          0.22448979591836735,
          0.2653061224489796,
          0.30612244897959184,
          0.3469387755102041,
          0.3877551020408163,
          0.42857142857142855,
          0.46938775510204084,
          0.5102040816326531,
          0.5510204081632653,
          0.5918367346938775,
          0.6326530612244898,
          0.673469387755102,
          0.7142857142857143,
          0.7551020408163265,
          0.7959183673469388,
          0.8367346938775511,
          0.8775510204081632,
          0.9183673469387755,
          0.9591836734693877,
          1
         ],
         "y": [
          0.15302265695133346,
          0.020307598629336232,
          -0.005153227682624648,
          0.019875073356676418,
          0.059465980334762775,
          0.09332777173666584,
          0.1124622733513287,
          0.11559878827296155,
          0.10632002077330058,
          0.09080096475693104,
          0.07608588694803362,
          0.06883269439311604,
          0.07445813530049636,
          0.09662144167350226,
          0.13698818163055798,
          0.19522024874152816,
          0.2691420751458929,
          0.35503731465453076,
          0.44803440147308443,
          0.5425435496210937,
          0.632711917557274,
          0.7128678219575263,
          0.7779290440284676,
          0.8237544311754674,
          0.847422156280382,
          0.847422156280382,
          0.8237544311754676,
          0.7779290440284679,
          0.7128678219575265,
          0.6327119175572741,
          0.5425435496210941,
          0.44803440147308465,
          0.35503731465453076,
          0.2691420751458928,
          0.19522024874152794,
          0.1369881816305576,
          0.09662144167350176,
          0.07445813530049569,
          0.06883269439311523,
          0.0760858869480327,
          0.09080096475693021,
          0.10632002077329984,
          0.115598788272961,
          0.11246227335132843,
          0.0933277717366659,
          0.059465980334763205,
          0.019875073356677195,
          -0.005153227682623648,
          0.020307598629337183,
          0.15302265695133407
         ]
        },
        {
         "name": "we",
         "type": "scatter",
         "x": [
          -1,
          -0.9591836734693877,
          -0.9183673469387755,
          -0.8775510204081632,
          -0.8367346938775511,
          -0.7959183673469388,
          -0.7551020408163265,
          -0.7142857142857143,
          -0.673469387755102,
          -0.6326530612244898,
          -0.5918367346938775,
          -0.5510204081632653,
          -0.5102040816326531,
          -0.46938775510204084,
          -0.42857142857142855,
          -0.3877551020408163,
          -0.3469387755102041,
          -0.30612244897959184,
          -0.2653061224489796,
          -0.22448979591836735,
          -0.1836734693877551,
          -0.14285714285714285,
          -0.10204081632653061,
          -0.061224489795918366,
          -0.02040816326530612,
          0.02040816326530612,
          0.061224489795918366,
          0.10204081632653061,
          0.14285714285714285,
          0.1836734693877551,
          0.22448979591836735,
          0.2653061224489796,
          0.30612244897959184,
          0.3469387755102041,
          0.3877551020408163,
          0.42857142857142855,
          0.46938775510204084,
          0.5102040816326531,
          0.5510204081632653,
          0.5918367346938775,
          0.6326530612244898,
          0.673469387755102,
          0.7142857142857143,
          0.7551020408163265,
          0.7959183673469388,
          0.8367346938775511,
          0.8775510204081632,
          0.9183673469387755,
          0.9591836734693877,
          1
         ],
         "y": [
          0.03345182641047413,
          -0.02716311029751488,
          -0.022773615735567247,
          0.00737765642159088,
          0.03959393269903333,
          0.06168800355857401,
          0.069627336484234,
          0.06479113556589197,
          0.051773173437928754,
          0.03666753013684119,
          0.025777682148954355,
          0.02469269362652674,
          0.03767757045769607,
          0.06732814658287788,
          0.11444418065738442,
          0.17807764986719463,
          0.25571653641196046,
          0.3435677108765002,
          0.43690582541918127,
          0.5304584384127637,
          0.6188009008804232,
          0.6967378437768461,
          0.759651413871432,
          0.803799714697815,
          0.8265522177410597,
          0.8265522177410599,
          0.803799714697815,
          0.7596514138714323,
          0.6967378437768463,
          0.6188009008804237,
          0.5304584384127641,
          0.43690582541918194,
          0.3435677108765008,
          0.2557165364119611,
          0.17807764986719515,
          0.11444418065738494,
          0.06732814658287833,
          0.03767757045769649,
          0.024692693626527092,
          0.025777682148954584,
          0.0366675301368413,
          0.05177317343792872,
          0.06479113556589158,
          0.06962733648423343,
          0.06168800355857316,
          0.03959393269903229,
          0.007377656421589749,
          -0.0227736157355682,
          -0.027163110297515235,
          0.03345182641047487
         ]
        }
       ],
       "layout": {
        "margin": {
         "b": 50,
         "l": 50,
         "r": 50,
         "t": 60
        },
        "title": "Deg: 9"
       }
      },
      "text/html": [
       "<div\n",
       "    class=\"webio-mountpoint\"\n",
       "    data-webio-mountpoint=\"2010308719176035645\"\n",
       ">\n",
       "    <script>\n",
       "    if (window.require && require.defined && require.defined(\"nbextensions/webio/main\")) {\n",
       "        console.log(\"Jupyter WebIO extension detected, not mounting.\");\n",
       "    } else if (window.WebIO) {\n",
       "        WebIO.mount(\n",
       "            document.querySelector('[data-webio-mountpoint=\"2010308719176035645\"]'),\n",
       "            {\"props\":{},\"nodeType\":\"Scope\",\"type\":\"node\",\"instanceArgs\":{\"imports\":{\"data\":[{\"name\":\"Plotly\",\"type\":\"js\",\"url\":\"\\/assetserver\\/cd530f7ca5e38ebe098b9c7072ff3c25fd175488-plotly-latest.min.js\"},{\"name\":null,\"type\":\"js\",\"url\":\"\\/assetserver\\/57dab4e78c505417f20e320aefcd8a79223468c8-plotly_webio.bundle.js\"}],\"type\":\"async_block\"},\"id\":\"scope-25053835-6a01-4193-b65d-6b70b989d14d\",\"handlers\":{\"_toImage\":[\"(function (options){return this.Plotly.toImage(this.plotElem,options).then((function (data){return _webIOScope.setObservableValue({\\\"name\\\":\\\"image\\\",\\\"scope\\\":\\\"scope-25053835-6a01-4193-b65d-6b70b989d14d\\\",\\\"id\\\":\\\"ob_05\\\",\\\"type\\\":\\\"observable\\\"},data)}))})\"],\"__get_gd_contents\":[\"(function (prop){prop==\\\"data\\\" ? (_webIOScope.setObservableValue({\\\"name\\\":\\\"__gd_contents\\\",\\\"scope\\\":\\\"scope-25053835-6a01-4193-b65d-6b70b989d14d\\\",\\\"id\\\":\\\"ob_06\\\",\\\"type\\\":\\\"observable\\\"},this.plotElem.data)) : undefined; return prop==\\\"layout\\\" ? (_webIOScope.setObservableValue({\\\"name\\\":\\\"__gd_contents\\\",\\\"scope\\\":\\\"scope-25053835-6a01-4193-b65d-6b70b989d14d\\\",\\\"id\\\":\\\"ob_06\\\",\\\"type\\\":\\\"observable\\\"},this.plotElem.layout)) : undefined})\"],\"_promises\":{\"importsLoaded\":[\"(function (Plotly){var gd=this.dom.querySelector(\\\"#plot-a26d5b47-6573-4331-8cdc-21c1f4b30138\\\"); this.plotElem=gd; this.Plotly=Plotly; (window.Blink!==undefined) ? (gd.style.width=\\\"100%\\\", gd.style.height=\\\"100vh\\\", gd.style.marginLeft=\\\"0%\\\", gd.style.marginTop=\\\"0vh\\\") : undefined; window.onresize=(function (){return Plotly.Plots.resize(gd)}); Plotly.newPlot(gd,[{\\\"y\\\":[0.038461538461538464,0.041665220560163814,0.045279674122128764,0.04937687656809115,0.054044928645387826,0.05939247019245042,0.06555452410855678,0.07270029673590504,0.08104367785053669,0.09085748883675168,0.10249295654401092,0.11640647726170854,0.13319649395317873,0.15365416613336746,0.17883211678832117,0.21013478032557326,0.24942863079160604,0.2991527535509594,0.3623603984304256,0.4424990785108736,0.5424762765476728,0.6621621621621622,0.7934567085261072,0.9143183549124143,0.9896949711459193,0.9896949711459193,0.9143183549124143,0.7934567085261072,0.6621621621621622,0.5424762765476728,0.4424990785108736,0.3623603984304256,0.2991527535509594,0.24942863079160604,0.21013478032557326,0.17883211678832117,0.15365416613336746,0.13319649395317873,0.11640647726170854,0.10249295654401092,0.09085748883675168,0.08104367785053669,0.07270029673590504,0.06555452410855678,0.05939247019245042,0.054044928645387826,0.04937687656809115,0.045279674122128764,0.041665220560163814,0.038461538461538464],\\\"type\\\":\\\"scatter\\\",\\\"name\\\":\\\"f\\\",\\\"x\\\":[-1.0,-0.9591836734693877,-0.9183673469387755,-0.8775510204081632,-0.8367346938775511,-0.7959183673469388,-0.7551020408163265,-0.7142857142857143,-0.673469387755102,-0.6326530612244898,-0.5918367346938775,-0.5510204081632653,-0.5102040816326531,-0.46938775510204084,-0.42857142857142855,-0.3877551020408163,-0.3469387755102041,-0.30612244897959184,-0.2653061224489796,-0.22448979591836735,-0.1836734693877551,-0.14285714285714285,-0.10204081632653061,-0.061224489795918366,-0.02040816326530612,0.02040816326530612,0.061224489795918366,0.10204081632653061,0.14285714285714285,0.1836734693877551,0.22448979591836735,0.2653061224489796,0.30612244897959184,0.3469387755102041,0.3877551020408163,0.42857142857142855,0.46938775510204084,0.5102040816326531,0.5510204081632653,0.5918367346938775,0.6326530612244898,0.673469387755102,0.7142857142857143,0.7551020408163265,0.7959183673469388,0.8367346938775511,0.8775510204081632,0.9183673469387755,0.9591836734693877,1.0]},{\\\"y\\\":[0.038461538461538464,-0.21312244472104908,-0.2522108412465624,-0.18417860515591078,-0.07822176692558425,0.023981908734834707,0.10101676558073683,0.14573655238910135,0.1604008432431525,0.15281296792107704,0.13333855527134925,0.11269050896373187,0.10037295151154965,0.10368338896735484,0.12717906520063238,0.1725201911727142,0.23860945113060145,0.3219539041479135,0.4171821159477144,0.5176560724484859,0.6161241429810472,0.7053680776307429,0.7788037396657488,0.8310019905188674,0.8581028612967132,0.8581028612967134,0.8310019905188673,0.7788037396657486,0.7053680776307427,0.6161241429810476,0.517656072448485,0.41718211594771437,0.32195390414791325,0.23860945113060117,0.17252019117271433,0.12717906520063268,0.1036833889673554,0.10037295151155373,0.11269050896373169,0.13333855527135693,0.15281296792107754,0.1604008432431532,0.14573655238910696,0.10101676558074087,0.023981908734864478,-0.07822176692556833,-0.18417860515587936,-0.25221084124654225,-0.21312244472104813,0.038461538461565095],\\\"type\\\":\\\"scatter\\\",\\\"name\\\":\\\"wa\\\",\\\"x\\\":[-1.0,-0.9591836734693877,-0.9183673469387755,-0.8775510204081632,-0.8367346938775511,-0.7959183673469388,-0.7551020408163265,-0.7142857142857143,-0.673469387755102,-0.6326530612244898,-0.5918367346938775,-0.5510204081632653,-0.5102040816326531,-0.46938775510204084,-0.42857142857142855,-0.3877551020408163,-0.3469387755102041,-0.30612244897959184,-0.2653061224489796,-0.22448979591836735,-0.1836734693877551,-0.14285714285714285,-0.10204081632653061,-0.061224489795918366,-0.02040816326530612,0.02040816326530612,0.061224489795918366,0.10204081632653061,0.14285714285714285,0.1836734693877551,0.22448979591836735,0.2653061224489796,0.30612244897959184,0.3469387755102041,0.3877551020408163,0.42857142857142855,0.46938775510204084,0.5102040816326531,0.5510204081632653,0.5918367346938775,0.6326530612244898,0.673469387755102,0.7142857142857143,0.7551020408163265,0.7959183673469388,0.8367346938775511,0.8775510204081632,0.9183673469387755,0.9591836734693877,1.0]},{\\\"y\\\":[0.04881455135940813,0.03087016953511016,0.03796402744020191,0.053155467069718125,0.06689349887912416,0.07499588118084,0.07697775006550274,0.07469384303454367,0.07126007175958493,0.07022191161354008,0.07493878784752195,0.08815535051681395,0.11173224248838466,0.14651067709171436,0.1922868542038349,0.24787395578875895,0.31123117414068474,0.3796409383095394,0.44991721641671556,0.518629483798,0.5823286591399757,0.6377630230053335,0.6820738453718176,0.7129621610386845,0.7288198439838133,0.7288198439838133,0.7129621610386844,0.6820738453718174,0.6377630230053329,0.582328659139975,0.5186294837979996,0.4499172164167146,0.3796409383095394,0.3112311741406847,0.24787395578875918,0.19228685420383398,0.14651067709171411,0.11173224248838443,0.0881553505168133,0.07493878784752189,0.07022191161353943,0.07126007175958621,0.0746938430345452,0.07697775006550006,0.07499588118083697,0.06689349887912606,0.053155467069716474,0.03796402744019809,0.030870169535101594,0.048814551359426125],\\\"type\\\":\\\"scatter\\\",\\\"name\\\":\\\"wb\\\",\\\"x\\\":[-1.0,-0.9591836734693877,-0.9183673469387755,-0.8775510204081632,-0.8367346938775511,-0.7959183673469388,-0.7551020408163265,-0.7142857142857143,-0.673469387755102,-0.6326530612244898,-0.5918367346938775,-0.5510204081632653,-0.5102040816326531,-0.46938775510204084,-0.42857142857142855,-0.3877551020408163,-0.3469387755102041,-0.30612244897959184,-0.2653061224489796,-0.22448979591836735,-0.1836734693877551,-0.14285714285714285,-0.10204081632653061,-0.061224489795918366,-0.02040816326530612,0.02040816326530612,0.061224489795918366,0.10204081632653061,0.14285714285714285,0.1836734693877551,0.22448979591836735,0.2653061224489796,0.30612244897959184,0.3469387755102041,0.3877551020408163,0.42857142857142855,0.46938775510204084,0.5102040816326531,0.5510204081632653,0.5918367346938775,0.6326530612244898,0.673469387755102,0.7142857142857143,0.7551020408163265,0.7959183673469388,0.8367346938775511,0.8775510204081632,0.9183673469387755,0.9591836734693877,1.0]},{\\\"y\\\":[0.03846153846154123,0.039663885874874044,0.048121483648844075,0.05676276826652634,0.06231835272493985,0.06418301463689452,0.06348215069200468,0.062321385121677765,0.06319903468692299,0.0685621475819003,0.08048784852020151,0.10047273714483725,0.12931410177704603,0.1670677253930695,0.2130680755920843,0.26599768519252354,0.3239935449681517,0.3847793449091991,0.4458134152680371,0.5044432335228466,0.5580583782668327,0.6042348259045823,0.6408645009112198,0.6662650052840785,0.6792654676906498,0.6792654676906497,0.6662650052840786,0.6408645009112197,0.6042348259045818,0.5580583782668322,0.5044432335228459,0.4458134152680364,0.3847793449091985,0.32399354496815125,0.2659976851925232,0.21306807559208252,0.1670677253930689,0.1293141017770445,0.10047273714483627,0.08048784852020055,0.06856214758189728,0.06319903468691893,0.062321385121676655,0.06348215069200357,0.0641830146368917,0.062318352724937014,0.056762768266524474,0.048121483648841626,0.03966388587486725,0.038461538461538464],\\\"type\\\":\\\"scatter\\\",\\\"name\\\":\\\"wc\\\",\\\"x\\\":[-1.0,-0.9591836734693877,-0.9183673469387755,-0.8775510204081632,-0.8367346938775511,-0.7959183673469388,-0.7551020408163265,-0.7142857142857143,-0.673469387755102,-0.6326530612244898,-0.5918367346938775,-0.5510204081632653,-0.5102040816326531,-0.46938775510204084,-0.42857142857142855,-0.3877551020408163,-0.3469387755102041,-0.30612244897959184,-0.2653061224489796,-0.22448979591836735,-0.1836734693877551,-0.14285714285714285,-0.10204081632653061,-0.061224489795918366,-0.02040816326530612,0.02040816326530612,0.061224489795918366,0.10204081632653061,0.14285714285714285,0.1836734693877551,0.22448979591836735,0.2653061224489796,0.30612244897959184,0.3469387755102041,0.3877551020408163,0.42857142857142855,0.46938775510204084,0.5102040816326531,0.5510204081632653,0.5918367346938775,0.6326530612244898,0.673469387755102,0.7142857142857143,0.7551020408163265,0.7959183673469388,0.8367346938775511,0.8775510204081632,0.9183673469387755,0.9591836734693877,1.0]},{\\\"y\\\":[0.15302265695133346,0.020307598629336232,-0.005153227682624648,0.019875073356676418,0.059465980334762775,0.09332777173666584,0.1124622733513287,0.11559878827296155,0.10632002077330058,0.09080096475693104,0.07608588694803362,0.06883269439311604,0.07445813530049636,0.09662144167350226,0.13698818163055798,0.19522024874152816,0.2691420751458929,0.35503731465453076,0.44803440147308443,0.5425435496210937,0.632711917557274,0.7128678219575263,0.7779290440284676,0.8237544311754674,0.847422156280382,0.847422156280382,0.8237544311754676,0.7779290440284679,0.7128678219575265,0.6327119175572741,0.5425435496210941,0.44803440147308465,0.35503731465453076,0.2691420751458928,0.19522024874152794,0.1369881816305576,0.09662144167350176,0.07445813530049569,0.06883269439311523,0.0760858869480327,0.09080096475693021,0.10632002077329984,0.115598788272961,0.11246227335132843,0.0933277717366659,0.059465980334763205,0.019875073356677195,-0.005153227682623648,0.020307598629337183,0.15302265695133407],\\\"type\\\":\\\"scatter\\\",\\\"name\\\":\\\"wd\\\",\\\"x\\\":[-1.0,-0.9591836734693877,-0.9183673469387755,-0.8775510204081632,-0.8367346938775511,-0.7959183673469388,-0.7551020408163265,-0.7142857142857143,-0.673469387755102,-0.6326530612244898,-0.5918367346938775,-0.5510204081632653,-0.5102040816326531,-0.46938775510204084,-0.42857142857142855,-0.3877551020408163,-0.3469387755102041,-0.30612244897959184,-0.2653061224489796,-0.22448979591836735,-0.1836734693877551,-0.14285714285714285,-0.10204081632653061,-0.061224489795918366,-0.02040816326530612,0.02040816326530612,0.061224489795918366,0.10204081632653061,0.14285714285714285,0.1836734693877551,0.22448979591836735,0.2653061224489796,0.30612244897959184,0.3469387755102041,0.3877551020408163,0.42857142857142855,0.46938775510204084,0.5102040816326531,0.5510204081632653,0.5918367346938775,0.6326530612244898,0.673469387755102,0.7142857142857143,0.7551020408163265,0.7959183673469388,0.8367346938775511,0.8775510204081632,0.9183673469387755,0.9591836734693877,1.0]},{\\\"y\\\":[0.03345182641047413,-0.02716311029751488,-0.022773615735567247,0.00737765642159088,0.03959393269903333,0.06168800355857401,0.069627336484234,0.06479113556589197,0.051773173437928754,0.03666753013684119,0.025777682148954355,0.02469269362652674,0.03767757045769607,0.06732814658287788,0.11444418065738442,0.17807764986719463,0.25571653641196046,0.3435677108765002,0.43690582541918127,0.5304584384127637,0.6188009008804232,0.6967378437768461,0.759651413871432,0.803799714697815,0.8265522177410597,0.8265522177410599,0.803799714697815,0.7596514138714323,0.6967378437768463,0.6188009008804237,0.5304584384127641,0.43690582541918194,0.3435677108765008,0.2557165364119611,0.17807764986719515,0.11444418065738494,0.06732814658287833,0.03767757045769649,0.024692693626527092,0.025777682148954584,0.0366675301368413,0.05177317343792872,0.06479113556589158,0.06962733648423343,0.06168800355857316,0.03959393269903229,0.007377656421589749,-0.0227736157355682,-0.027163110297515235,0.03345182641047487],\\\"type\\\":\\\"scatter\\\",\\\"name\\\":\\\"we\\\",\\\"x\\\":[-1.0,-0.9591836734693877,-0.9183673469387755,-0.8775510204081632,-0.8367346938775511,-0.7959183673469388,-0.7551020408163265,-0.7142857142857143,-0.673469387755102,-0.6326530612244898,-0.5918367346938775,-0.5510204081632653,-0.5102040816326531,-0.46938775510204084,-0.42857142857142855,-0.3877551020408163,-0.3469387755102041,-0.30612244897959184,-0.2653061224489796,-0.22448979591836735,-0.1836734693877551,-0.14285714285714285,-0.10204081632653061,-0.061224489795918366,-0.02040816326530612,0.02040816326530612,0.061224489795918366,0.10204081632653061,0.14285714285714285,0.1836734693877551,0.22448979591836735,0.2653061224489796,0.30612244897959184,0.3469387755102041,0.3877551020408163,0.42857142857142855,0.46938775510204084,0.5102040816326531,0.5510204081632653,0.5918367346938775,0.6326530612244898,0.673469387755102,0.7142857142857143,0.7551020408163265,0.7959183673469388,0.8367346938775511,0.8775510204081632,0.9183673469387755,0.9591836734693877,1.0]}],{\\\"margin\\\":{\\\"l\\\":50,\\\"b\\\":50,\\\"r\\\":50,\\\"t\\\":60},\\\"title\\\":\\\"Deg: 9\\\"},{}); gd.on(\\\"plotly_hover\\\",(function (data){var filtered_data=WebIO.CommandSets.Plotly.filterEventData(gd,data,\\\"hover\\\"); return !(filtered_data.isnil) ? (_webIOScope.setObservableValue({\\\"name\\\":\\\"hover\\\",\\\"scope\\\":\\\"scope-25053835-6a01-4193-b65d-6b70b989d14d\\\",\\\"id\\\":\\\"ob_01\\\",\\\"type\\\":\\\"observable\\\"},filtered_data.out)) : undefined})); gd.on(\\\"plotly_unhover\\\",(function (){return _webIOScope.setObservableValue({\\\"name\\\":\\\"hover\\\",\\\"scope\\\":\\\"scope-25053835-6a01-4193-b65d-6b70b989d14d\\\",\\\"id\\\":\\\"ob_01\\\",\\\"type\\\":\\\"observable\\\"},{})})); gd.on(\\\"plotly_selected\\\",(function (data){var filtered_data=WebIO.CommandSets.Plotly.filterEventData(gd,data,\\\"selected\\\"); return !(filtered_data.isnil) ? (_webIOScope.setObservableValue({\\\"name\\\":\\\"selected\\\",\\\"scope\\\":\\\"scope-25053835-6a01-4193-b65d-6b70b989d14d\\\",\\\"id\\\":\\\"ob_02\\\",\\\"type\\\":\\\"observable\\\"},filtered_data.out)) : undefined})); gd.on(\\\"plotly_deselect\\\",(function (){return _webIOScope.setObservableValue({\\\"name\\\":\\\"selected\\\",\\\"scope\\\":\\\"scope-25053835-6a01-4193-b65d-6b70b989d14d\\\",\\\"id\\\":\\\"ob_02\\\",\\\"type\\\":\\\"observable\\\"},{})})); gd.on(\\\"plotly_relayout\\\",(function (data){var filtered_data=WebIO.CommandSets.Plotly.filterEventData(gd,data,\\\"relayout\\\"); return !(filtered_data.isnil) ? (_webIOScope.setObservableValue({\\\"name\\\":\\\"relayout\\\",\\\"scope\\\":\\\"scope-25053835-6a01-4193-b65d-6b70b989d14d\\\",\\\"id\\\":\\\"ob_04\\\",\\\"type\\\":\\\"observable\\\"},filtered_data.out)) : undefined})); return gd.on(\\\"plotly_click\\\",(function (data){var filtered_data=WebIO.CommandSets.Plotly.filterEventData(gd,data,\\\"click\\\"); return !(filtered_data.isnil) ? (_webIOScope.setObservableValue({\\\"name\\\":\\\"click\\\",\\\"scope\\\":\\\"scope-25053835-6a01-4193-b65d-6b70b989d14d\\\",\\\"id\\\":\\\"ob_03\\\",\\\"type\\\":\\\"observable\\\"},filtered_data.out)) : undefined}))})\"]},\"_downloadImage\":[\"(function (options){return this.Plotly.downloadImage(this.plotElem,options)})\"],\"_commands\":[\"(function (args){var fn=args.shift(); var elem=this.plotElem; var Plotly=this.Plotly; args.unshift(elem); return Plotly[fn].apply(this,args)})\"]},\"systemjs_options\":null,\"observables\":{\"_toImage\":{\"sync\":false,\"id\":\"ob_08\",\"value\":{}},\"hover\":{\"sync\":false,\"id\":\"ob_01\",\"value\":{}},\"selected\":{\"sync\":false,\"id\":\"ob_02\",\"value\":{}},\"__gd_contents\":{\"sync\":false,\"id\":\"ob_06\",\"value\":{}},\"click\":{\"sync\":false,\"id\":\"ob_03\",\"value\":{}},\"image\":{\"sync\":true,\"id\":\"ob_05\",\"value\":\"\"},\"__get_gd_contents\":{\"sync\":false,\"id\":\"ob_10\",\"value\":\"\"},\"_downloadImage\":{\"sync\":false,\"id\":\"ob_09\",\"value\":{}},\"relayout\":{\"sync\":false,\"id\":\"ob_04\",\"value\":{}},\"_commands\":{\"sync\":false,\"id\":\"ob_07\",\"value\":[]}}},\"children\":[{\"props\":{\"id\":\"plot-a26d5b47-6573-4331-8cdc-21c1f4b30138\"},\"nodeType\":\"DOM\",\"type\":\"node\",\"instanceArgs\":{\"namespace\":\"html\",\"tag\":\"div\"},\"children\":[]}]},\n",
       "        );\n",
       "    } else {\n",
       "        document\n",
       "            .querySelector('[data-webio-mountpoint=\"2010308719176035645\"]')\n",
       "            .innerHTML = '<strong>WebIO not detected.</strong>';\n",
       "    }\n",
       "    </script>\n",
       "</div>\n"
      ],
      "text/plain": [
       "data: [\n",
       "  \"scatter with fields name, type, x, and y\",\n",
       "  \"scatter with fields name, type, x, and y\",\n",
       "  \"scatter with fields name, type, x, and y\",\n",
       "  \"scatter with fields name, type, x, and y\",\n",
       "  \"scatter with fields name, type, x, and y\",\n",
       "  \"scatter with fields name, type, x, and y\"\n",
       "]\n",
       "\n",
       "layout: \"layout with fields margin and title\"\n",
       "\n"
      ]
     },
     "execution_count": 31,
     "metadata": {},
     "output_type": "execute_result"
    }
   ],
   "source": [
    "Plotly.plot([f, wa, wb, wc, wd, we], -1, 1, Layout( title=\"Deg: 9\" ))"
   ]
  }
 ],
 "metadata": {
  "@webio": {
   "lastCommId": "b682460a53504831a55d2a68128217bb",
   "lastKernelId": "6801c938-8b8a-465a-95d4-7d89e09c55e1"
  },
  "kernelspec": {
   "display_name": "Julia 1.0.1",
   "language": "julia",
   "name": "julia-1.0"
  },
  "language_info": {
   "file_extension": ".jl",
   "mimetype": "application/julia",
   "name": "julia",
   "version": "1.0.1"
  }
 },
 "nbformat": 4,
 "nbformat_minor": 2
}
