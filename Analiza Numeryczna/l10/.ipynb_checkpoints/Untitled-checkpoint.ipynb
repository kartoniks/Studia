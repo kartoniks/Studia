{
 "cells": [
  {
   "cell_type": "markdown",
   "metadata": {},
   "source": [
    "# zadanie 5"
   ]
  },
  {
   "cell_type": "code",
   "execution_count": 2,
   "metadata": {},
   "outputs": [],
   "source": [
    "using QuadGK"
   ]
  },
  {
   "cell_type": "code",
   "execution_count": 3,
   "metadata": {},
   "outputs": [],
   "source": [
    "f(x) = 1 / (1 + x*x);"
   ]
  },
  {
   "cell_type": "code",
   "execution_count": 4,
   "metadata": {},
   "outputs": [],
   "source": [
    "function silnia(a)\n",
    "   wyn = 1;\n",
    "    for i = 2:1:a\n",
    "        wyn *= i;\n",
    "    end\n",
    "    return wyn;\n",
    "end;"
   ]
  },
  {
   "cell_type": "code",
   "execution_count": 5,
   "metadata": {},
   "outputs": [],
   "source": [
    "function A(n, k)\n",
    "    \n",
    "    tab = Array{Any}(undef, n)\n",
    "\n",
    "    p = 1\n",
    "    for i=0:1:n\n",
    "        if i != k\n",
    "            tab[p] = i;\n",
    "            p += 1;\n",
    "        end\n",
    "    end\n",
    "\n",
    "    pom(x) = [(x-i) for i in tab];\n",
    "\n",
    "    g(x) = reduce(*, pom(x));\n",
    "        \n",
    "    A = h * (-1)^(n-k) * 1/(silnia(k) * silnia(n-k)) * quadgk(g, 0, n)[1];\n",
    "    \n",
    "    return A;\n",
    "end;"
   ]
  },
  {
   "cell_type": "code",
   "execution_count": 11,
   "metadata": {},
   "outputs": [],
   "source": [
    "function Q()\n",
    "    wyn = 0;\n",
    "    for k = 0:1:n\n",
    "        xk = a + k * h;\n",
    "        @show p1 = A(n, k)\n",
    "       # @show p1 / (b-a)\n",
    "        p = p1 * f(xk);\n",
    "        wyn += p;\n",
    "    end\n",
    "    return wyn;\n",
    "end;\n",
    "# 2.6516"
   ]
  },
  {
   "cell_type": "code",
   "execution_count": 12,
   "metadata": {},
   "outputs": [
    {
     "name": "stdout",
     "output_type": "stream",
     "text": [
      "p1 = A(n, k) = 1.3333333333333335\n",
      "p1 = A(n, k) = 5.333333333333333\n",
      "p1 = A(n, k) = 1.3333333333333335\n"
     ]
    },
    {
     "data": {
      "text/plain": [
       "5.490196078431372"
      ]
     },
     "execution_count": 12,
     "metadata": {},
     "output_type": "execute_result"
    }
   ],
   "source": [
    "n = 2;\n",
    "a = -4;\n",
    "b = 4;\n",
    "h = (b - a) / n;\n",
    "Q()"
   ]
  },
  {
   "cell_type": "code",
   "execution_count": 13,
   "metadata": {},
   "outputs": [
    {
     "name": "stdout",
     "output_type": "stream",
     "text": [
      "p1 = A(n, k) = 0.6222222222222222\n",
      "p1 = A(n, k) = 2.844444444444444\n",
      "p1 = A(n, k) = 1.066666666666666\n",
      "p1 = A(n, k) = 2.844444444444444\n",
      "p1 = A(n, k) = 0.6222222222222221\n"
     ]
    },
    {
     "data": {
      "text/plain": [
       "2.2776470588235287"
      ]
     },
     "execution_count": 13,
     "metadata": {},
     "output_type": "execute_result"
    }
   ],
   "source": [
    "n = 4;\n",
    "a = -4;\n",
    "b = 4;\n",
    "h = (b - a) / n;\n",
    "Q()"
   ]
  },
  {
   "cell_type": "code",
   "execution_count": 14,
   "metadata": {},
   "outputs": [
    {
     "name": "stdout",
     "output_type": "stream",
     "text": [
      "p1 = A(n, k) = 0.3904761904761904\n",
      "p1 = A(n, k) = 2.057142857142857\n",
      "p1 = A(n, k) = 0.25714285714285634\n",
      "p1 = A(n, k) = 2.5904761904761915\n",
      "p1 = A(n, k) = 0.2571428571428561\n",
      "p1 = A(n, k) = 2.057142857142858\n",
      "p1 = A(n, k) = 0.3904761904761902\n"
     ]
    },
    {
     "data": {
      "text/plain": [
       "3.3287981274701663"
      ]
     },
     "execution_count": 14,
     "metadata": {},
     "output_type": "execute_result"
    }
   ],
   "source": [
    "n = 6;\n",
    "a = -4;\n",
    "b = 4;\n",
    "h = (b - a) / n;\n",
    "Q()"
   ]
  },
  {
   "cell_type": "code",
   "execution_count": 15,
   "metadata": {},
   "outputs": [
    {
     "name": "stdout",
     "output_type": "stream",
     "text": [
      "p1 = A(n, k) = 0.27908289241622564\n",
      "p1 = A(n, k) = 1.6615167548500884\n",
      "p1 = A(n, k) = -0.26186948853615605\n",
      "p1 = A(n, k) = 2.96183421516755\n",
      "p1 = A(n, k) = -1.2811287477954174\n",
      "p1 = A(n, k) = 2.9618342151675514\n",
      "p1 = A(n, k) = -0.26186948853615727\n",
      "p1 = A(n, k) = 1.6615167548500889\n",
      "p1 = A(n, k) = 0.27908289241622547\n"
     ]
    },
    {
     "data": {
      "text/plain": [
       "1.941094304388421"
      ]
     },
     "execution_count": 15,
     "metadata": {},
     "output_type": "execute_result"
    }
   ],
   "source": [
    "n = 8;\n",
    "a = -4;\n",
    "b = 4;\n",
    "h = (b - a) / n;\n",
    "Q()"
   ]
  },
  {
   "cell_type": "code",
   "execution_count": 16,
   "metadata": {},
   "outputs": [
    {
     "name": "stdout",
     "output_type": "stream",
     "text": [
      "p1 = A(n, k) = 0.21467318689540907\n",
      "p1 = A(n, k) = 1.4202875313986434\n",
      "p1 = A(n, k) = -0.6483485650152327\n",
      "p1 = A(n, k) = 3.6395703062369753\n",
      "p1 = A(n, k) = -3.4812409812409846\n",
      "p1 = A(n, k) = 5.71011704345038\n",
      "p1 = A(n, k) = -3.4812409812409846\n",
      "p1 = A(n, k) = 3.6395703062369757\n",
      "p1 = A(n, k) = -0.6483485650152336\n",
      "p1 = A(n, k) = 1.4202875313986443\n",
      "p1 = A(n, k) = 0.2146731868954082\n"
     ]
    },
    {
     "data": {
      "text/plain": [
       "3.595560400190438"
      ]
     },
     "execution_count": 16,
     "metadata": {},
     "output_type": "execute_result"
    }
   ],
   "source": [
    "n = 10;\n",
    "a = -4;\n",
    "b = 4;\n",
    "h = (b - a) / n;\n",
    "Q()"
   ]
  },
  {
   "cell_type": "markdown",
   "metadata": {},
   "source": [
    "# zadanie 4"
   ]
  },
  {
   "cell_type": "code",
   "execution_count": 26,
   "metadata": {},
   "outputs": [],
   "source": [
    "function B(n, k)\n",
    "    \n",
    "    tab = Array{Any}(undef, n)\n",
    "\n",
    "    p = 1\n",
    "    for i=0:1:n\n",
    "        if i != k\n",
    "            tab[p] = i;\n",
    "            p += 1;\n",
    "        end\n",
    "    end\n",
    "\n",
    "    pom(x) = [(x-i) for i in tab];\n",
    "\n",
    "    g(x) = reduce(*, pom(x));\n",
    "        \n",
    "    B = 1/n * (-1)^(n-k) * 1/(silnia(k) * silnia(n-k)) * quadgk(g, 0, n)[1];\n",
    "    \n",
    "    return B;\n",
    "end;"
   ]
  },
  {
   "cell_type": "code",
   "execution_count": null,
   "metadata": {},
   "outputs": [],
   "source": []
  },
  {
   "cell_type": "code",
   "execution_count": 27,
   "metadata": {},
   "outputs": [
    {
     "data": {
      "text/plain": [
       "3.0647947731281087"
      ]
     },
     "execution_count": 27,
     "metadata": {},
     "output_type": "execute_result"
    }
   ],
   "source": [
    "n = 10;\n",
    "wyn = 0;\n",
    "for k = 0:1:n\n",
    "    wyn += abs(B(n,k));\n",
    "end\n",
    "wyn"
   ]
  },
  {
   "cell_type": "code",
   "execution_count": 28,
   "metadata": {},
   "outputs": [
    {
     "data": {
      "text/plain": [
       "8.348084925599572"
      ]
     },
     "execution_count": 28,
     "metadata": {},
     "output_type": "execute_result"
    }
   ],
   "source": [
    "n = 15;\n",
    "wyn = 0;\n",
    "for k = 0:1:n\n",
    "    wyn += abs(B(n,k));\n",
    "end\n",
    "wyn"
   ]
  },
  {
   "cell_type": "code",
   "execution_count": 29,
   "metadata": {},
   "outputs": [
    {
     "data": {
      "text/plain": [
       "544.1771559959263"
      ]
     },
     "execution_count": 29,
     "metadata": {},
     "output_type": "execute_result"
    }
   ],
   "source": [
    "n = 20;\n",
    "wyn = 0;\n",
    "for k = 0:1:n\n",
    "    wyn += abs(B(n,k));\n",
    "end\n",
    "wyn"
   ]
  }
 ],
 "metadata": {
  "@webio": {
   "lastCommId": "2b066160a4ba4716beb0d9a38a018fd6",
   "lastKernelId": "df6de824-75a4-49fd-bf2f-0d39d4bc53b0"
  },
  "kernelspec": {
   "display_name": "Julia 1.0.1",
   "language": "julia",
   "name": "julia-1.0"
  },
  "language_info": {
   "file_extension": ".jl",
   "mimetype": "application/julia",
   "name": "julia",
   "version": "1.0.1"
  }
 },
 "nbformat": 4,
 "nbformat_minor": 2
}
