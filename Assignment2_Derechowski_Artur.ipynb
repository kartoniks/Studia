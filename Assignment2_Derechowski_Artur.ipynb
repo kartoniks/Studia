{
  "nbformat": 4,
  "nbformat_minor": 0,
  "metadata": {
    "colab": {
      "name": "Assignment2_Derechowski_Artur.ipynb",
      "provenance": [],
      "collapsed_sections": [],
      "toc_visible": true,
      "include_colab_link": true
    },
    "kernelspec": {
      "name": "python3",
      "display_name": "Python 3"
    }
  },
  "cells": [
    {
      "cell_type": "markdown",
      "metadata": {
        "id": "view-in-github",
        "colab_type": "text"
      },
      "source": [
        "<a href=\"https://colab.research.google.com/github/kartoniks/Studia/blob/master/Assignment2_Derechowski_Artur.ipynb\" target=\"_parent\"><img src=\"https://colab.research.google.com/assets/colab-badge.svg\" alt=\"Open In Colab\"/></a>"
      ]
    },
    {
      "cell_type": "markdown",
      "metadata": {
        "id": "CGXgWugfJ0Vl",
        "colab_type": "text"
      },
      "source": [
        "# Assignment 2\n",
        "\n",
        "**Submission deadline: last lab session before or on Thursday, 26.03.2020**\n",
        "\n",
        "**Points: 6 + 1 bonus points**\n",
        "\n",
        "## Submission instructions\n",
        "The class is held remotely. To sumbmit your solutions please save the notebook to your Google Drive, then:\n",
        "1. Rename it it to: Assignment2_Surname_FirstName\n",
        "2. Rerun the whole notebook `Runtime -> Restar and run all`\n",
        "3. Make a pinned revision `File->Save and pin revision`\n",
        "4. Share the notebook with your instructor using his `cs.uni.wroc.pl` email\n",
        "\n",
        "We will use the commenting system and video conferences to check and discuss the solutions.\n",
        "\n",
        "As always, please submit corrections using GitHub's Pull Requests."
      ]
    },
    {
      "cell_type": "code",
      "metadata": {
        "id": "nfVDe-bMqVT_",
        "colab_type": "code",
        "colab": {}
      },
      "source": [
        "%matplotlib inline"
      ],
      "execution_count": 0,
      "outputs": []
    },
    {
      "cell_type": "code",
      "metadata": {
        "id": "YiTEWD2oqW0Y",
        "colab_type": "code",
        "colab": {}
      },
      "source": [
        "import numpy as np\n",
        "import matplotlib.pyplot as plt"
      ],
      "execution_count": 0,
      "outputs": []
    },
    {
      "cell_type": "markdown",
      "metadata": {
        "id": "RZCM_hdELE04",
        "colab_type": "text"
      },
      "source": [
        "The code below contains a mock-up of a two-layer neural network. Fill in the code and manually set weights to solve the XOR problem.\n",
        "\n",
        "Please note: the shapes are set to be compatible with PyTorch's conventions:\n",
        "* a batch containing $N$ $D$-dimensional examples has shape $N\\times D$ (each example is a row!)\n",
        "* a weight matrix in a linear layer with $I$ inputs and $O$ outputs has shape $O \\times I$\n",
        "* a bias vector is a 1D vector. Please note that [broadcasting rules](https://docs.scipy.org/doc/numpy/user/basics.broadcasting.html) allow us to think about it as a $1 \\times D` matrix."
      ]
    },
    {
      "cell_type": "code",
      "metadata": {
        "id": "lYEbCfbSpv5M",
        "colab_type": "code",
        "outputId": "547ea9ad-3c7d-489e-f0a0-be48b04df059",
        "colab": {
          "base_uri": "https://localhost:8080/",
          "height": 296
        }
      },
      "source": [
        "# Let's define a XOR dataset\n",
        "\n",
        "# X will be matrix of N 2-dimensional inputs\n",
        "X = np.array(\n",
        "    [[0, 0],\n",
        "     [0, 1],\n",
        "     [1, 0],\n",
        "     [1, 1],\n",
        "    ], dtype=np.float32)\n",
        "# Y is a matrix of N numners - answers\n",
        "Y = np.array(\n",
        "    [[0],\n",
        "     [1],\n",
        "     [1],\n",
        "     [0],\n",
        "    ], dtype=np.float32)\n",
        "\n",
        "plt.scatter(X[:,0], X[:,1], c=Y[:,0], )\n",
        "plt.xlabel('X[0]')\n",
        "plt.ylabel('X[1]')"
      ],
      "execution_count": 3,
      "outputs": [
        {
          "output_type": "execute_result",
          "data": {
            "text/plain": [
              "Text(0, 0.5, 'X[1]')"
            ]
          },
          "metadata": {
            "tags": []
          },
          "execution_count": 3
        },
        {
          "output_type": "display_data",
          "data": {
            "image/png": "[encoded data removed]",
            "text/plain": [
              "<Figure size 432x288 with 1 Axes>"
            ]
          },
          "metadata": {
            "tags": []
          }
        }
      ]
    },
    {
      "cell_type": "markdown",
      "metadata": {
        "id": "Rb3azMn929_I",
        "colab_type": "text"
      },
      "source": [
        "# Problem 1 [2p]\n",
        "\n",
        "Fill in the details of a forward pass, then manually set the weights and biases in the network to solve the 2D XOR task defined above."
      ]
    },
    {
      "cell_type": "code",
      "metadata": {
        "id": "lrrRuk6zLiF0",
        "colab_type": "code",
        "colab": {}
      },
      "source": [
        "def sigmoid(x):\n",
        "    return 1/(1 + np.exp(-x)) #DONE\n",
        "\n",
        "class SmallNet:\n",
        "    def __init__(self, in_features, num_hidden, dtype=np.float32):\n",
        "        self.W1 = np.zeros((num_hidden, in_features), dtype=dtype)\n",
        "        self.b1 = np.zeros((num_hidden,), dtype=dtype)\n",
        "        self.W2 = np.zeros((1, num_hidden), dtype=dtype)\n",
        "        self.b2 = np.zeros((1,), dtype=dtype)\n",
        "        self.init_params()\n",
        "\n",
        "    def init_params(self):\n",
        "        # DONE Problem 2:\n",
        "        # set all parameters to small random values, e.g. from N(0, 0.5)\n",
        "        self.W1 = np.random.rand(self.W1.shape[0], self.W1.shape[1])-0.5\n",
        "        self.b1 = np.random.rand(self.b1.shape[0],)-0.5\n",
        "        self.W2 = np.random.rand(1, self.W2.shape[1])-0.5\n",
        "        self.b2 = np.random.rand(1,)-0.5\n",
        "        pass\n",
        "\n",
        "    def forward(self, X, Y=None, do_backward=False):\n",
        "        # TODO Problem 1: Fill in details of forward propagation\n",
        "\n",
        "        # Input to neurons in 1st layer\n",
        "        A1 = X @ self.W1.T + self.b1\n",
        "        # print(A1)\n",
        "        # Outputs after the sigmoid non-linearity\n",
        "        O1 = sigmoid(A1)\n",
        "        # Inputs to neuron in the second layer\n",
        "        # print(O1)\n",
        "        A2 = O1 @ self.W2.T + self.b2\n",
        "        # Outputs after the sigmoid non-linearity\n",
        "        O2 = sigmoid(A2)\n",
        "\n",
        "        if Y is not None:\n",
        "            # cross entropy loss\n",
        "            loss = - Y*np.log(O2) - (1-Y)*np.log(1-O2)\n",
        "            # normalize loss by batch size\n",
        "            loss = loss.sum() / X.shape[0]\n",
        "        else:\n",
        "            loss = np.nan\n",
        "\n",
        "        if do_backward:\n",
        "            # TODO in Problem 2: fill in the gradient computation\n",
        "            # Please note, thate there is a correspondance between\n",
        "            # the forward and backward pass: with backward computations happening\n",
        "            # in reversed order. \n",
        "\n",
        "            # A2_grad is the gradient of loss with respect to A2\n",
        "            # Hint: there is a concise formula for the gradient \n",
        "            # of logistic sigmoid and cross-entropy loss \n",
        "            batch_size = X.shape[0]\n",
        "            O2_grad = - Y / (O2 + 1e-100) + (1-Y)/(1-O2+1e-100)\n",
        "            A2_grad = O2_grad * O2 * (1- O2) / batch_size\n",
        "            self.b2_grad = A2_grad.sum(0)\n",
        "            self.W2_grad = A2_grad.T @ O1\n",
        "            O1_grad = A2_grad * self.W2\n",
        "            A1_grad = O1_grad * O1 * (1 - O1)\n",
        "            self.b1_grad = A1_grad.sum(0)\n",
        "            self.W1_grad = A1_grad.T @ X\n",
        "            pass\n",
        "        return O2, loss"
      ],
      "execution_count": 0,
      "outputs": []
    },
    {
      "cell_type": "code",
      "metadata": {
        "id": "jJswvBk0oiIY",
        "colab_type": "code",
        "outputId": "19faa45c-63af-4422-f669-a6f222b0dab2",
        "colab": {
          "base_uri": "https://localhost:8080/",
          "height": 85
        }
      },
      "source": [
        "# DONE Problem 1:\n",
        "# Set by hand the weight values to solve the XOR problem\n",
        "\n",
        "net = SmallNet(2, 2, dtype=np.float64)\n",
        "net.W1 = np.array([[10.,10.],[10.,10.]])\n",
        "net.b1 = np.array([-5.,-15.])\n",
        "net.W2 = np.array([[10.,-10.]])\n",
        "net.b2 = np.array([-5.])\n",
        "\n",
        "# Hint: since we use the logistic sigmoid activation, the weights may need to \n",
        "# be fairly large \n",
        "\n",
        "\n",
        "net.forward(X, Y, do_backward=True)"
      ],
      "execution_count": 5,
      "outputs": [
        {
          "output_type": "execute_result",
          "data": {
            "text/plain": [
              "(array([[0.00715279],\n",
              "        [0.99235586],\n",
              "        [0.99235586],\n",
              "        [0.00715279]]), 0.0074259970019481605)"
            ]
          },
          "metadata": {
            "tags": []
          },
          "execution_count": 5
        }
      ]
    },
    {
      "cell_type": "markdown",
      "metadata": {
        "id": "wmxCi5Vl6_xB",
        "colab_type": "text"
      },
      "source": [
        "# Problem 2 [2p]\n",
        "\n",
        "1. Fill in the backward pass.\n",
        "2. Implement random initialization of network parameters.\n",
        "3. Using `float64` verify correctness of your backward pass."
      ]
    },
    {
      "cell_type": "code",
      "metadata": {
        "id": "eSM5hgJ1mrhY",
        "colab_type": "code",
        "colab": {}
      },
      "source": [
        "def check_grad(net, param_name, X, Y, eps=1e-5):\n",
        "    \"\"\"A gradient checking routine\"\"\"\n",
        "    \n",
        "    param = getattr(net, param_name)\n",
        "    param_flat_accessor = param.reshape(-1)\n",
        "\n",
        "    grad = np.empty_like(param)\n",
        "    grad_flat_accessor = grad.reshape(-1)\n",
        "\n",
        "    net.forward(X, Y, do_backward=True)\n",
        "    orig_grad = getattr(net, param_name + '_grad')\n",
        "    assert (param.shape == orig_grad.shape)\n",
        "\n",
        "    for i in range(param_flat_accessor.shape[0]):\n",
        "        orig_val = param_flat_accessor[i]\n",
        "        param_flat_accessor[i] = orig_val + eps\n",
        "        _, loss_positive = net.forward(X, Y)\n",
        "        param_flat_accessor[i] = orig_val - eps\n",
        "        _, loss_negative = net.forward(X, Y)\n",
        "        param_flat_accessor[i] = orig_val\n",
        "        grad_flat_accessor[i] = (\n",
        "            loss_positive - loss_negative) / (2 * eps)\n",
        "    assert np.allclose(grad, orig_grad)\n",
        "    return grad, orig_grad"
      ],
      "execution_count": 0,
      "outputs": []
    },
    {
      "cell_type": "code",
      "metadata": {
        "id": "TTZu0jFEvgXF",
        "colab_type": "code",
        "colab": {}
      },
      "source": [
        "net = SmallNet(2, 2, dtype=np.float64)\n",
        "\n",
        "for param_name in ['W1', 'b1', 'W2', 'b2']:\n",
        "    check_grad(net, param_name, X, Y)"
      ],
      "execution_count": 0,
      "outputs": []
    },
    {
      "cell_type": "markdown",
      "metadata": {
        "id": "8mUOs3cVvjM2",
        "colab_type": "text"
      },
      "source": [
        "# Problem 3 [2p]\n",
        "\n",
        "Fill in the details of batch gradient descent below, then train a network to solve 2D XOR problem.\n",
        "\n",
        "Then test the reliability of solving the 3D XOR task."
      ]
    },
    {
      "cell_type": "code",
      "metadata": {
        "id": "nn2AAoZo0vjU",
        "colab_type": "code",
        "outputId": "f565e356-4d13-4447-ad18-29bc9448f99d",
        "colab": {
          "base_uri": "https://localhost:8080/",
          "height": 357
        }
      },
      "source": [
        "net = SmallNet(2, 10, dtype=np.float64)\n",
        "\n",
        "alpha = 1e-1\n",
        "\n",
        "for i in range(100000):\n",
        "    _, loss = net.forward(X, Y, do_backward=True)\n",
        "    if (i % 5000) == 0:\n",
        "        print(i, loss)\n",
        "    for param_name in ['W1', 'b1', 'W2', 'b2']:\n",
        "        param = getattr(net, param_name)\n",
        "        grad = getattr(net, param_name+'_grad')\n",
        "        # Hint: use the construct `param[:]` to change the contents of the array!\n",
        "        # Doing instead `param = new_val` simply changes to what the variable\n",
        "        # param points to, without affecting the network!\n",
        "        param[:] = param - alpha*grad"
      ],
      "execution_count": 15,
      "outputs": [
        {
          "output_type": "stream",
          "text": [
            "0 0.7214894294565767\n",
            "5000 0.09035565668106316\n",
            "10000 0.01340624458614087\n",
            "15000 0.006756979042049487\n",
            "20000 0.004444429359132327\n",
            "25000 0.003288401769056047\n",
            "30000 0.002599914008490846\n",
            "35000 0.0021448879587223474\n",
            "40000 0.0018226102684420842\n",
            "45000 0.0015827981534937319\n",
            "50000 0.0013976186785228774\n",
            "55000 0.0012504479646805464\n",
            "60000 0.001130758589687894\n",
            "65000 0.001031566648806916\n",
            "70000 0.000948060341655601\n",
            "75000 0.0008768186058376111\n",
            "80000 0.0008153438130762401\n",
            "85000 0.0007617706898728552\n",
            "90000 0.0007146786159370482\n",
            "95000 0.0006729669156857783\n"
          ],
          "name": "stdout"
        }
      ]
    },
    {
      "cell_type": "code",
      "metadata": {
        "id": "TwpEjpkU1JvK",
        "colab_type": "code",
        "colab": {
          "base_uri": "https://localhost:8080/",
          "height": 85
        },
        "outputId": "e209cc78-c026-40d9-f0da-f08019322759"
      },
      "source": [
        "net.forward(X, Y, do_backward=True)"
      ],
      "execution_count": 10,
      "outputs": [
        {
          "output_type": "execute_result",
          "data": {
            "text/plain": [
              "(array([[5.18711593e-04],\n",
              "        [9.99448398e-01],\n",
              "        [9.99493493e-01],\n",
              "        [5.13202813e-04]]), 0.0005226425651728018)"
            ]
          },
          "metadata": {
            "tags": []
          },
          "execution_count": 10
        }
      ]
    },
    {
      "cell_type": "markdown",
      "metadata": {
        "id": "w3NiL0ku2Unr",
        "colab_type": "text"
      },
      "source": [
        "Generate below data for a 3D XOR task. Try a few values of hidden layer size. Plot the reliability of training, i.e. how many trainings succeed for a given hiden layer size.\n",
        "\n",
        "What is easier to train: a smaller, or large network?"
      ]
    },
    {
      "cell_type": "code",
      "metadata": {
        "id": "U0ZMyHqz8xrC",
        "colab_type": "code",
        "colab": {
          "base_uri": "https://localhost:8080/",
          "height": 187
        },
        "outputId": "cf30f7f8-d858-4d32-eb85-d89fe059b947"
      },
      "source": [
        "X3 = np.array(\n",
        "    [[0, 0, 0],\n",
        "     [0, 1, 0],\n",
        "     [1, 0, 0],\n",
        "     [1, 1, 0],\n",
        "     [0, 0, 1],\n",
        "     [0, 1, 1],\n",
        "     [1, 0, 1],\n",
        "     [1, 1, 1],\n",
        "    ], dtype=np.float32)\n",
        "Y3 = np.array(\n",
        "    [[0],\n",
        "     [1],\n",
        "     [1],\n",
        "     [0],\n",
        "     [1],\n",
        "     [0],\n",
        "     [0],\n",
        "     [1],\n",
        "    ], dtype=np.float32)\n",
        "\n",
        "def train(hidden_no):\n",
        "    net = SmallNet(3, hidden_no, dtype=np.float64)\n",
        "    alpha = 1e-1\n",
        "\n",
        "    for i in range(100000):\n",
        "        _, loss = net.forward(X3, Y3, do_backward=True)\n",
        "        for param_name in ['W1', 'b1', 'W2', 'b2']:\n",
        "            param = getattr(net, param_name)\n",
        "            grad = getattr(net, param_name+'_grad')\n",
        "            param[:] = param - alpha*grad\n",
        "    print(hidden_no, loss)\n",
        "    res, loss = net.forward(X3, Y3, do_backward=True)\n",
        "    # print(res)\n",
        "    good = 0\n",
        "    for i in range(len(Y3)):\n",
        "        if Y3[i] == np.round(res[i]):\n",
        "            good +=1\n",
        "    print(\"guess percent: \", good/len(Y3))\n",
        "\n",
        "\n",
        "for hidden_dim in [2, 3, 5, 10, 20]:\n",
        "    # TODO: run a few trainings and record the fraction of successful ones\n",
        "    train(hidden_dim)"
      ],
      "execution_count": 25,
      "outputs": [
        {
          "output_type": "stream",
          "text": [
            "2 0.6931271700009811\n",
            "guess percent:  0.5\n",
            "3 0.0016244232248809123\n",
            "guess percent:  1.0\n",
            "5 0.0007076094665467624\n",
            "guess percent:  1.0\n",
            "10 0.0005501996126055766\n",
            "guess percent:  1.0\n",
            "20 0.0006589225079548758\n",
            "guess percent:  1.0\n"
          ],
          "name": "stdout"
        }
      ]
    },
    {
      "cell_type": "markdown",
      "metadata": {
        "id": "UuaLEoV-9DLG",
        "colab_type": "text"
      },
      "source": [
        "# Problem 4 [1bp]\n",
        "\n",
        "Replace the first nonlinearity with the [ReLU](https://en.wikipedia.org/wiki/Rectifier_(neural_networks)) activation function. Verify ho"
      ]
    },
    {
      "cell_type": "code",
      "metadata": {
        "id": "bqTIWBD19ErK",
        "colab_type": "code",
        "colab": {
          "base_uri": "https://localhost:8080/",
          "height": 357
        },
        "outputId": "a208d800-79a1-47c6-c489-4d4bee8295e6"
      },
      "source": [
        "def ReLU(x):\n",
        "    return np.maximum(0,x)\n",
        "\n",
        "def reluDerivative(x):\n",
        "    x[x<=0] = 0\n",
        "    x[x>0] = 1\n",
        "    return x\n",
        "\n",
        "class ReLUNet:\n",
        "    def __init__(self, in_features, num_hidden, dtype=np.float32):\n",
        "        self.W1 = np.zeros((num_hidden, in_features), dtype=dtype)\n",
        "        self.b1 = np.zeros((num_hidden,), dtype=dtype)\n",
        "        self.W2 = np.zeros((1, num_hidden), dtype=dtype)\n",
        "        self.b2 = np.zeros((1,), dtype=dtype)\n",
        "        self.init_params()\n",
        "\n",
        "    def init_params(self):\n",
        "        # DONE Problem 2:\n",
        "        # set all parameters to small random values, e.g. from N(0, 0.5)\n",
        "        self.W1 = np.random.rand(self.W1.shape[0], self.W1.shape[1])-0.5\n",
        "        self.b1 = np.random.rand(self.b1.shape[0],)-0.5\n",
        "        self.W2 = np.random.rand(1, self.W2.shape[1])-0.5\n",
        "        self.b2 = np.random.rand(1,)-0.5\n",
        "        pass\n",
        "\n",
        "    def forward(self, X, Y=None, do_backward=False):\n",
        "        # TODO Problem 1: Fill in details of forward propagation\n",
        "\n",
        "        # Input to neurons in 1st layer\n",
        "        A1 = X @ self.W1.T + self.b1\n",
        "        # print(A1)\n",
        "        # Outputs after the sigmoid non-linearity\n",
        "        O1 = ReLU(A1)\n",
        "        # Inputs to neuron in the second layer\n",
        "        # print(O1)\n",
        "        A2 = O1 @ self.W2.T + self.b2\n",
        "        # Outputs after the sigmoid non-linearity\n",
        "        O2 = sigmoid(A2)\n",
        "\n",
        "        if Y is not None:\n",
        "            # cross entropy loss\n",
        "            loss = - Y*np.log(O2) - (1-Y)*np.log(1-O2)\n",
        "            # normalize loss by batch size\n",
        "            loss = loss.sum() / X.shape[0]\n",
        "        else:\n",
        "            loss = np.nan\n",
        "\n",
        "        if do_backward:\n",
        "            # TODO in Problem 2: fill in the gradient computation\n",
        "            # Please note, thate there is a correspondance between\n",
        "            # the forward and backward pass: with backward computations happening\n",
        "            # in reversed order. \n",
        "\n",
        "            # A2_grad is the gradient of loss with respect to A2\n",
        "            # Hint: there is a concise formula for the gradient \n",
        "            # of logistic sigmoid and cross-entropy loss \n",
        "            batch_size = X.shape[0]\n",
        "            O2_grad = - Y / (O2 + 1e-100) + (1-Y)/(1-O2+1e-100)\n",
        "            A2_grad = O2_grad * O2 * (1- O2) / batch_size\n",
        "            self.b2_grad = A2_grad.sum(0)\n",
        "            self.W2_grad = A2_grad.T @ O1\n",
        "            O1_grad = A2_grad * self.W2\n",
        "            A1_grad = O1_grad * reluDerivative(O1)\n",
        "            self.b1_grad = A1_grad.sum(0)\n",
        "            self.W1_grad = A1_grad.T @ X\n",
        "            pass\n",
        "        return O2, loss\n",
        "\n",
        "net = SmallNet(2, 10, dtype=np.float64)\n",
        "r_net = ReLUNet(2, 10, dtype=np.float64)\n",
        "alpha = 1e-1\n",
        "\n",
        "for i in range(100000):\n",
        "    _, loss = net.forward(X, Y, do_backward=True)\n",
        "    _, r_loss = r_net.forward(X, Y, do_backward=True)\n",
        "    if (i % 5000) == 0:\n",
        "        print(i, \"normal loss: \", loss, \"   ReLU loss: \", r_loss)\n",
        "    for param_name in ['W1', 'b1', 'W2', 'b2']:\n",
        "        param = getattr(net, param_name)\n",
        "        grad = getattr(net, param_name+'_grad')\n",
        "        r_param = getattr(r_net, param_name)\n",
        "        r_grad = getattr(r_net, param_name+'_grad')\n",
        "        param[:] = param - alpha*grad\n",
        "        r_param[:] = r_param - alpha*r_grad"
      ],
      "execution_count": 34,
      "outputs": [
        {
          "output_type": "stream",
          "text": [
            "0 normal loss:  0.6949112700440088    ReLU loss:  0.7098310247124273\n",
            "5000 normal loss:  0.25862409859235475    ReLU loss:  0.001823538747412883\n",
            "10000 normal loss:  0.018461379974080157    ReLU loss:  0.0007242890659516104\n",
            "15000 normal loss:  0.007868613749710533    ReLU loss:  0.0004346217603402281\n",
            "20000 normal loss:  0.0047974654047183    ReLU loss:  0.00030524882440037234\n",
            "25000 normal loss:  0.0033910181694076598    ReLU loss:  0.0002330355896274761\n",
            "30000 normal loss:  0.002597763224705745    ReLU loss:  0.00018733932810699274\n",
            "35000 normal loss:  0.0020931580619432616    ReLU loss:  0.0001559938171406502\n",
            "40000 normal loss:  0.0017459352494904176    ReLU loss:  0.00013324359289664816\n",
            "45000 normal loss:  0.0014934047546703404    ReLU loss:  0.0001160255427005763\n",
            "50000 normal loss:  0.0013020284629158875    ReLU loss:  0.00010256595819857717\n",
            "55000 normal loss:  0.001152314514697662    ReLU loss:  9.178068226495173e-05\n",
            "60000 normal loss:  0.001032194788390951    ReLU loss:  8.295026891782063e-05\n",
            "65000 normal loss:  0.0009338147733631339    ReLU loss:  7.559756406551575e-05\n",
            "70000 normal loss:  0.0008518512251089252    ReLU loss:  6.93882325735571e-05\n",
            "75000 normal loss:  0.0007825735927722909    ReLU loss:  6.407566248252392e-05\n",
            "80000 normal loss:  0.0007232928237211863    ReLU loss:  5.948481005825981e-05\n",
            "85000 normal loss:  0.0006720234726324344    ReLU loss:  5.5478246079186704e-05\n",
            "90000 normal loss:  0.0006272688841706614    ReLU loss:  5.1953932188366485e-05\n",
            "95000 normal loss:  0.0005878802735182879    ReLU loss:  4.883021146443055e-05\n"
          ],
          "name": "stdout"
        }
      ]
    }
  ]
}